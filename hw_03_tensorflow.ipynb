{
 "cells": [
  {
   "cell_type": "markdown",
   "metadata": {
    "id": "j9uRd98UFzPL"
   },
   "source": [
    "# Введение в искусственные нейронные сети\n",
    "# Урок 3. TensorFlow"
   ]
  },
  {
   "cell_type": "code",
   "execution_count": 1,
   "metadata": {
    "colab": {
     "base_uri": "https://localhost:8080/"
    },
    "executionInfo": {
     "elapsed": 5106,
     "status": "ok",
     "timestamp": 1665839325601,
     "user": {
      "displayName": "Mariia Korliakova",
      "userId": "14165537686129864864"
     },
     "user_tz": -180
    },
    "id": "75BVCTdbFzPa",
    "outputId": "15434102-cf5e-4434-b16d-da3f7af6e6d7"
   },
   "outputs": [],
   "source": [
    "import tensorflow as tf"
   ]
  },
  {
   "cell_type": "code",
   "execution_count": 2,
   "metadata": {},
   "outputs": [],
   "source": [
    "from tensorflow import keras"
   ]
  },
  {
   "cell_type": "code",
   "execution_count": 3,
   "metadata": {
    "colab": {
     "base_uri": "https://localhost:8080/"
    },
    "executionInfo": {
     "elapsed": 8,
     "status": "ok",
     "timestamp": 1665839329372,
     "user": {
      "displayName": "Mariia Korliakova",
      "userId": "14165537686129864864"
     },
     "user_tz": -180
    },
    "id": "fHlpsLfLUDtU",
    "outputId": "68e6cd31-d197-4b75-e37d-4294210afd28"
   },
   "outputs": [],
   "source": [
    "import numpy as np\n",
    "import matplotlib.pyplot as plt\n",
    "import pandas as pd"
   ]
  },
  {
   "cell_type": "code",
   "execution_count": 4,
   "metadata": {
    "executionInfo": {
     "elapsed": 10,
     "status": "ok",
     "timestamp": 1665839330609,
     "user": {
      "displayName": "Mariia Korliakova",
      "userId": "14165537686129864864"
     },
     "user_tz": -180
    },
    "id": "ozb2tTqNIBzX"
   },
   "outputs": [],
   "source": [
    "from tensorflow.keras.models import Sequential, Model\n",
    "from tensorflow.keras.layers import Dense, Input\n",
    "from tensorflow.keras.optimizers import Adam, SGD, RMSprop, Adagrad\n",
    "from tensorflow.keras.losses import MeanSquaredError, MeanAbsoluteError\n",
    "from tensorflow.keras.metrics import RootMeanSquaredError, MeanAbsolutePercentageError"
   ]
  },
  {
   "cell_type": "markdown",
   "metadata": {
    "executionInfo": {
     "elapsed": 4,
     "status": "ok",
     "timestamp": 1665839364259,
     "user": {
      "displayName": "Mariia Korliakova",
      "userId": "14165537686129864864"
     },
     "user_tz": -180
    },
    "id": "5g3px8aXXse6"
   },
   "source": [
    "## Практическое задание\n",
    "\n",
    "  1. Постройте нейронную сеть(берем простую линейную сеть, которую разбирали на уроке: меняем число слоев, число нейронов , типы активации, тип оптимизатора)  на датасет from sklearn.datasets import load_boston. \n",
    "  2. Измените функцию потерь и метрику для этой задачи. Постройте 10-15 вариантов и сведите результаты их работы в таблицу  Опишите, какого результата вы добились от нейросети? Что помогло вам улучшить ее точность?\n",
    "\n",
    "  3. Поработайте с документацией TensorFlow 2. Найти 2-3 полезные команды TensorFlow, не разобранные на уроке (полезные для Вас)."
   ]
  },
  {
   "cell_type": "code",
   "execution_count": 5,
   "metadata": {},
   "outputs": [],
   "source": [
    "# from sklearn.datasets import load_boston\n",
    "# data = load_boston()"
   ]
  },
  {
   "cell_type": "markdown",
   "metadata": {},
   "source": [
    "At an attempt to download \"load_boston\" we get a warning that it has ethical issues and will be deprecated in future versions.\n",
    "\n",
    "   *Function load_boston is deprecated; `load_boston` is deprecated in 1.0 and will be removed in 1.2.*\n",
    "   *The Boston housing prices dataset has an ethical problem. You can refer to*\n",
    "   *the documentation of this function for further details.*\n",
    "\n",
    "   *The scikit-learn maintainers therefore strongly discourage the use of this*\n",
    "   *dataset unless the purpose of the code is to study and educate about*\n",
    "   *ethical issues in data science and machine learning.*\n",
    "   \n",
    "**Alternative datasets include the California housing dataset so we'll use it as recommended**"
   ]
  },
  {
   "cell_type": "code",
   "execution_count": 6,
   "metadata": {},
   "outputs": [],
   "source": [
    "from sklearn.datasets import fetch_california_housing\n",
    "housing_data = fetch_california_housing()"
   ]
  },
  {
   "cell_type": "code",
   "execution_count": 7,
   "metadata": {
    "colab": {
     "base_uri": "https://localhost:8080/"
    },
    "executionInfo": {
     "elapsed": 481,
     "status": "ok",
     "timestamp": 1665839383941,
     "user": {
      "displayName": "Mariia Korliakova",
      "userId": "14165537686129864864"
     },
     "user_tz": -180
    },
    "id": "7MqDQO0KCaWS",
    "outputId": "022d4ed6-06ac-4eab-aeee-60ebb10116ca"
   },
   "outputs": [
    {
     "data": {
      "text/plain": [
       "{'data': array([[   8.3252    ,   41.        ,    6.98412698, ...,    2.55555556,\n",
       "           37.88      , -122.23      ],\n",
       "        [   8.3014    ,   21.        ,    6.23813708, ...,    2.10984183,\n",
       "           37.86      , -122.22      ],\n",
       "        [   7.2574    ,   52.        ,    8.28813559, ...,    2.80225989,\n",
       "           37.85      , -122.24      ],\n",
       "        ...,\n",
       "        [   1.7       ,   17.        ,    5.20554273, ...,    2.3256351 ,\n",
       "           39.43      , -121.22      ],\n",
       "        [   1.8672    ,   18.        ,    5.32951289, ...,    2.12320917,\n",
       "           39.43      , -121.32      ],\n",
       "        [   2.3886    ,   16.        ,    5.25471698, ...,    2.61698113,\n",
       "           39.37      , -121.24      ]]),\n",
       " 'target': array([4.526, 3.585, 3.521, ..., 0.923, 0.847, 0.894]),\n",
       " 'frame': None,\n",
       " 'target_names': ['MedHouseVal'],\n",
       " 'feature_names': ['MedInc',\n",
       "  'HouseAge',\n",
       "  'AveRooms',\n",
       "  'AveBedrms',\n",
       "  'Population',\n",
       "  'AveOccup',\n",
       "  'Latitude',\n",
       "  'Longitude'],\n",
       " 'DESCR': '.. _california_housing_dataset:\\n\\nCalifornia Housing dataset\\n--------------------------\\n\\n**Data Set Characteristics:**\\n\\n    :Number of Instances: 20640\\n\\n    :Number of Attributes: 8 numeric, predictive attributes and the target\\n\\n    :Attribute Information:\\n        - MedInc        median income in block group\\n        - HouseAge      median house age in block group\\n        - AveRooms      average number of rooms per household\\n        - AveBedrms     average number of bedrooms per household\\n        - Population    block group population\\n        - AveOccup      average number of household members\\n        - Latitude      block group latitude\\n        - Longitude     block group longitude\\n\\n    :Missing Attribute Values: None\\n\\nThis dataset was obtained from the StatLib repository.\\nhttps://www.dcc.fc.up.pt/~ltorgo/Regression/cal_housing.html\\n\\nThe target variable is the median house value for California districts,\\nexpressed in hundreds of thousands of dollars ($100,000).\\n\\nThis dataset was derived from the 1990 U.S. census, using one row per census\\nblock group. A block group is the smallest geographical unit for which the U.S.\\nCensus Bureau publishes sample data (a block group typically has a population\\nof 600 to 3,000 people).\\n\\nAn household is a group of people residing within a home. Since the average\\nnumber of rooms and bedrooms in this dataset are provided per household, these\\ncolumns may take surpinsingly large values for block groups with few households\\nand many empty houses, such as vacation resorts.\\n\\nIt can be downloaded/loaded using the\\n:func:`sklearn.datasets.fetch_california_housing` function.\\n\\n.. topic:: References\\n\\n    - Pace, R. Kelley and Ronald Barry, Sparse Spatial Autoregressions,\\n      Statistics and Probability Letters, 33 (1997) 291-297\\n'}"
      ]
     },
     "execution_count": 7,
     "metadata": {},
     "output_type": "execute_result"
    }
   ],
   "source": [
    "housing_data"
   ]
  },
  {
   "cell_type": "markdown",
   "metadata": {},
   "source": [
    "**Exploring data structure**"
   ]
  },
  {
   "cell_type": "code",
   "execution_count": 8,
   "metadata": {},
   "outputs": [
    {
     "data": {
      "text/plain": [
       "['MedInc',\n",
       " 'HouseAge',\n",
       " 'AveRooms',\n",
       " 'AveBedrms',\n",
       " 'Population',\n",
       " 'AveOccup',\n",
       " 'Latitude',\n",
       " 'Longitude']"
      ]
     },
     "execution_count": 8,
     "metadata": {},
     "output_type": "execute_result"
    }
   ],
   "source": [
    "feature_names = housing_data['feature_names']\n",
    "feature_names"
   ]
  },
  {
   "cell_type": "code",
   "execution_count": 9,
   "metadata": {
    "executionInfo": {
     "elapsed": 17,
     "status": "ok",
     "timestamp": 1665839383941,
     "user": {
      "displayName": "Mariia Korliakova",
      "userId": "14165537686129864864"
     },
     "user_tz": -180
    },
    "id": "IjnLH5S2CaWx"
   },
   "outputs": [
    {
     "data": {
      "text/plain": [
       "(20640, 8)"
      ]
     },
     "execution_count": 9,
     "metadata": {},
     "output_type": "execute_result"
    }
   ],
   "source": [
    "data = housing_data['data']\n",
    "np.shape(data)"
   ]
  },
  {
   "cell_type": "code",
   "execution_count": 10,
   "metadata": {},
   "outputs": [],
   "source": [
    "target = housing_data['target']\n",
    "target_name = housing_data['target_names']"
   ]
  },
  {
   "cell_type": "code",
   "execution_count": 11,
   "metadata": {},
   "outputs": [],
   "source": [
    "df_housing = pd.DataFrame(data, columns=feature_names)"
   ]
  },
  {
   "cell_type": "code",
   "execution_count": 12,
   "metadata": {},
   "outputs": [],
   "source": [
    "df_target = pd.DataFrame(target, columns=target_name)"
   ]
  },
  {
   "cell_type": "code",
   "execution_count": 13,
   "metadata": {},
   "outputs": [
    {
     "data": {
      "text/html": [
       "<div>\n",
       "<style scoped>\n",
       "    .dataframe tbody tr th:only-of-type {\n",
       "        vertical-align: middle;\n",
       "    }\n",
       "\n",
       "    .dataframe tbody tr th {\n",
       "        vertical-align: top;\n",
       "    }\n",
       "\n",
       "    .dataframe thead th {\n",
       "        text-align: right;\n",
       "    }\n",
       "</style>\n",
       "<table border=\"1\" class=\"dataframe\">\n",
       "  <thead>\n",
       "    <tr style=\"text-align: right;\">\n",
       "      <th></th>\n",
       "      <th>MedInc</th>\n",
       "      <th>HouseAge</th>\n",
       "      <th>AveRooms</th>\n",
       "      <th>AveBedrms</th>\n",
       "      <th>Population</th>\n",
       "      <th>AveOccup</th>\n",
       "      <th>Latitude</th>\n",
       "      <th>Longitude</th>\n",
       "    </tr>\n",
       "  </thead>\n",
       "  <tbody>\n",
       "    <tr>\n",
       "      <th>count</th>\n",
       "      <td>20640.000000</td>\n",
       "      <td>20640.000000</td>\n",
       "      <td>20640.000000</td>\n",
       "      <td>20640.000000</td>\n",
       "      <td>20640.000000</td>\n",
       "      <td>20640.000000</td>\n",
       "      <td>20640.000000</td>\n",
       "      <td>20640.000000</td>\n",
       "    </tr>\n",
       "    <tr>\n",
       "      <th>mean</th>\n",
       "      <td>3.870671</td>\n",
       "      <td>28.639486</td>\n",
       "      <td>5.429000</td>\n",
       "      <td>1.096675</td>\n",
       "      <td>1425.476744</td>\n",
       "      <td>3.070655</td>\n",
       "      <td>35.631861</td>\n",
       "      <td>-119.569704</td>\n",
       "    </tr>\n",
       "    <tr>\n",
       "      <th>std</th>\n",
       "      <td>1.899822</td>\n",
       "      <td>12.585558</td>\n",
       "      <td>2.474173</td>\n",
       "      <td>0.473911</td>\n",
       "      <td>1132.462122</td>\n",
       "      <td>10.386050</td>\n",
       "      <td>2.135952</td>\n",
       "      <td>2.003532</td>\n",
       "    </tr>\n",
       "    <tr>\n",
       "      <th>min</th>\n",
       "      <td>0.499900</td>\n",
       "      <td>1.000000</td>\n",
       "      <td>0.846154</td>\n",
       "      <td>0.333333</td>\n",
       "      <td>3.000000</td>\n",
       "      <td>0.692308</td>\n",
       "      <td>32.540000</td>\n",
       "      <td>-124.350000</td>\n",
       "    </tr>\n",
       "    <tr>\n",
       "      <th>25%</th>\n",
       "      <td>2.563400</td>\n",
       "      <td>18.000000</td>\n",
       "      <td>4.440716</td>\n",
       "      <td>1.006079</td>\n",
       "      <td>787.000000</td>\n",
       "      <td>2.429741</td>\n",
       "      <td>33.930000</td>\n",
       "      <td>-121.800000</td>\n",
       "    </tr>\n",
       "    <tr>\n",
       "      <th>50%</th>\n",
       "      <td>3.534800</td>\n",
       "      <td>29.000000</td>\n",
       "      <td>5.229129</td>\n",
       "      <td>1.048780</td>\n",
       "      <td>1166.000000</td>\n",
       "      <td>2.818116</td>\n",
       "      <td>34.260000</td>\n",
       "      <td>-118.490000</td>\n",
       "    </tr>\n",
       "    <tr>\n",
       "      <th>75%</th>\n",
       "      <td>4.743250</td>\n",
       "      <td>37.000000</td>\n",
       "      <td>6.052381</td>\n",
       "      <td>1.099526</td>\n",
       "      <td>1725.000000</td>\n",
       "      <td>3.282261</td>\n",
       "      <td>37.710000</td>\n",
       "      <td>-118.010000</td>\n",
       "    </tr>\n",
       "    <tr>\n",
       "      <th>max</th>\n",
       "      <td>15.000100</td>\n",
       "      <td>52.000000</td>\n",
       "      <td>141.909091</td>\n",
       "      <td>34.066667</td>\n",
       "      <td>35682.000000</td>\n",
       "      <td>1243.333333</td>\n",
       "      <td>41.950000</td>\n",
       "      <td>-114.310000</td>\n",
       "    </tr>\n",
       "  </tbody>\n",
       "</table>\n",
       "</div>"
      ],
      "text/plain": [
       "             MedInc      HouseAge      AveRooms     AveBedrms    Population  \\\n",
       "count  20640.000000  20640.000000  20640.000000  20640.000000  20640.000000   \n",
       "mean       3.870671     28.639486      5.429000      1.096675   1425.476744   \n",
       "std        1.899822     12.585558      2.474173      0.473911   1132.462122   \n",
       "min        0.499900      1.000000      0.846154      0.333333      3.000000   \n",
       "25%        2.563400     18.000000      4.440716      1.006079    787.000000   \n",
       "50%        3.534800     29.000000      5.229129      1.048780   1166.000000   \n",
       "75%        4.743250     37.000000      6.052381      1.099526   1725.000000   \n",
       "max       15.000100     52.000000    141.909091     34.066667  35682.000000   \n",
       "\n",
       "           AveOccup      Latitude     Longitude  \n",
       "count  20640.000000  20640.000000  20640.000000  \n",
       "mean       3.070655     35.631861   -119.569704  \n",
       "std       10.386050      2.135952      2.003532  \n",
       "min        0.692308     32.540000   -124.350000  \n",
       "25%        2.429741     33.930000   -121.800000  \n",
       "50%        2.818116     34.260000   -118.490000  \n",
       "75%        3.282261     37.710000   -118.010000  \n",
       "max     1243.333333     41.950000   -114.310000  "
      ]
     },
     "execution_count": 13,
     "metadata": {},
     "output_type": "execute_result"
    }
   ],
   "source": [
    "df_housing.describe()"
   ]
  },
  {
   "cell_type": "code",
   "execution_count": 14,
   "metadata": {},
   "outputs": [
    {
     "data": {
      "text/html": [
       "<div>\n",
       "<style scoped>\n",
       "    .dataframe tbody tr th:only-of-type {\n",
       "        vertical-align: middle;\n",
       "    }\n",
       "\n",
       "    .dataframe tbody tr th {\n",
       "        vertical-align: top;\n",
       "    }\n",
       "\n",
       "    .dataframe thead th {\n",
       "        text-align: right;\n",
       "    }\n",
       "</style>\n",
       "<table border=\"1\" class=\"dataframe\">\n",
       "  <thead>\n",
       "    <tr style=\"text-align: right;\">\n",
       "      <th></th>\n",
       "      <th>MedHouseVal</th>\n",
       "    </tr>\n",
       "  </thead>\n",
       "  <tbody>\n",
       "    <tr>\n",
       "      <th>count</th>\n",
       "      <td>20640.000000</td>\n",
       "    </tr>\n",
       "    <tr>\n",
       "      <th>mean</th>\n",
       "      <td>2.068558</td>\n",
       "    </tr>\n",
       "    <tr>\n",
       "      <th>std</th>\n",
       "      <td>1.153956</td>\n",
       "    </tr>\n",
       "    <tr>\n",
       "      <th>min</th>\n",
       "      <td>0.149990</td>\n",
       "    </tr>\n",
       "    <tr>\n",
       "      <th>25%</th>\n",
       "      <td>1.196000</td>\n",
       "    </tr>\n",
       "    <tr>\n",
       "      <th>50%</th>\n",
       "      <td>1.797000</td>\n",
       "    </tr>\n",
       "    <tr>\n",
       "      <th>75%</th>\n",
       "      <td>2.647250</td>\n",
       "    </tr>\n",
       "    <tr>\n",
       "      <th>max</th>\n",
       "      <td>5.000010</td>\n",
       "    </tr>\n",
       "  </tbody>\n",
       "</table>\n",
       "</div>"
      ],
      "text/plain": [
       "        MedHouseVal\n",
       "count  20640.000000\n",
       "mean       2.068558\n",
       "std        1.153956\n",
       "min        0.149990\n",
       "25%        1.196000\n",
       "50%        1.797000\n",
       "75%        2.647250\n",
       "max        5.000010"
      ]
     },
     "execution_count": 14,
     "metadata": {},
     "output_type": "execute_result"
    }
   ],
   "source": [
    "df_target.describe()"
   ]
  },
  {
   "cell_type": "markdown",
   "metadata": {
    "id": "ES6uQoLKCaWr"
   },
   "source": [
    "## Preprocess the data\n"
   ]
  },
  {
   "cell_type": "code",
   "execution_count": 15,
   "metadata": {
    "id": "Wz7l27Lz9S1P"
   },
   "outputs": [],
   "source": [
    "data_copy = data.copy()"
   ]
  },
  {
   "cell_type": "code",
   "execution_count": 16,
   "metadata": {
    "executionInfo": {
     "elapsed": 5,
     "status": "ok",
     "timestamp": 1665839384322,
     "user": {
      "displayName": "Mariia Korliakova",
      "userId": "14165537686129864864"
     },
     "user_tz": -180
    },
    "id": "bW5WzIPlCaWv"
   },
   "outputs": [],
   "source": [
    "from sklearn.preprocessing import MinMaxScaler"
   ]
  },
  {
   "cell_type": "code",
   "execution_count": 17,
   "metadata": {},
   "outputs": [],
   "source": [
    "scaler = MinMaxScaler()"
   ]
  },
  {
   "cell_type": "code",
   "execution_count": 18,
   "metadata": {},
   "outputs": [],
   "source": [
    "scaled_data = scaler.fit_transform(data_copy)"
   ]
  },
  {
   "cell_type": "code",
   "execution_count": 19,
   "metadata": {},
   "outputs": [],
   "source": [
    "scaled_df = pd.DataFrame(scaled_data, columns=feature_names)"
   ]
  },
  {
   "cell_type": "code",
   "execution_count": 20,
   "metadata": {},
   "outputs": [
    {
     "data": {
      "text/html": [
       "<div>\n",
       "<style scoped>\n",
       "    .dataframe tbody tr th:only-of-type {\n",
       "        vertical-align: middle;\n",
       "    }\n",
       "\n",
       "    .dataframe tbody tr th {\n",
       "        vertical-align: top;\n",
       "    }\n",
       "\n",
       "    .dataframe thead th {\n",
       "        text-align: right;\n",
       "    }\n",
       "</style>\n",
       "<table border=\"1\" class=\"dataframe\">\n",
       "  <thead>\n",
       "    <tr style=\"text-align: right;\">\n",
       "      <th></th>\n",
       "      <th>MedInc</th>\n",
       "      <th>HouseAge</th>\n",
       "      <th>AveRooms</th>\n",
       "      <th>AveBedrms</th>\n",
       "      <th>Population</th>\n",
       "      <th>AveOccup</th>\n",
       "      <th>Latitude</th>\n",
       "      <th>Longitude</th>\n",
       "    </tr>\n",
       "  </thead>\n",
       "  <tbody>\n",
       "    <tr>\n",
       "      <th>0</th>\n",
       "      <td>0.539668</td>\n",
       "      <td>0.784314</td>\n",
       "      <td>0.043512</td>\n",
       "      <td>0.020469</td>\n",
       "      <td>0.008941</td>\n",
       "      <td>0.001499</td>\n",
       "      <td>0.567481</td>\n",
       "      <td>0.211155</td>\n",
       "    </tr>\n",
       "    <tr>\n",
       "      <th>1</th>\n",
       "      <td>0.538027</td>\n",
       "      <td>0.392157</td>\n",
       "      <td>0.038224</td>\n",
       "      <td>0.018929</td>\n",
       "      <td>0.067210</td>\n",
       "      <td>0.001141</td>\n",
       "      <td>0.565356</td>\n",
       "      <td>0.212151</td>\n",
       "    </tr>\n",
       "    <tr>\n",
       "      <th>2</th>\n",
       "      <td>0.466028</td>\n",
       "      <td>1.000000</td>\n",
       "      <td>0.052756</td>\n",
       "      <td>0.021940</td>\n",
       "      <td>0.013818</td>\n",
       "      <td>0.001698</td>\n",
       "      <td>0.564293</td>\n",
       "      <td>0.210159</td>\n",
       "    </tr>\n",
       "    <tr>\n",
       "      <th>3</th>\n",
       "      <td>0.354699</td>\n",
       "      <td>1.000000</td>\n",
       "      <td>0.035241</td>\n",
       "      <td>0.021929</td>\n",
       "      <td>0.015555</td>\n",
       "      <td>0.001493</td>\n",
       "      <td>0.564293</td>\n",
       "      <td>0.209163</td>\n",
       "    </tr>\n",
       "    <tr>\n",
       "      <th>4</th>\n",
       "      <td>0.230776</td>\n",
       "      <td>1.000000</td>\n",
       "      <td>0.038534</td>\n",
       "      <td>0.022166</td>\n",
       "      <td>0.015752</td>\n",
       "      <td>0.001198</td>\n",
       "      <td>0.564293</td>\n",
       "      <td>0.209163</td>\n",
       "    </tr>\n",
       "    <tr>\n",
       "      <th>...</th>\n",
       "      <td>...</td>\n",
       "      <td>...</td>\n",
       "      <td>...</td>\n",
       "      <td>...</td>\n",
       "      <td>...</td>\n",
       "      <td>...</td>\n",
       "      <td>...</td>\n",
       "      <td>...</td>\n",
       "    </tr>\n",
       "    <tr>\n",
       "      <th>20635</th>\n",
       "      <td>0.073130</td>\n",
       "      <td>0.470588</td>\n",
       "      <td>0.029769</td>\n",
       "      <td>0.023715</td>\n",
       "      <td>0.023599</td>\n",
       "      <td>0.001503</td>\n",
       "      <td>0.737513</td>\n",
       "      <td>0.324701</td>\n",
       "    </tr>\n",
       "    <tr>\n",
       "      <th>20636</th>\n",
       "      <td>0.141853</td>\n",
       "      <td>0.333333</td>\n",
       "      <td>0.037344</td>\n",
       "      <td>0.029124</td>\n",
       "      <td>0.009894</td>\n",
       "      <td>0.001956</td>\n",
       "      <td>0.738576</td>\n",
       "      <td>0.312749</td>\n",
       "    </tr>\n",
       "    <tr>\n",
       "      <th>20637</th>\n",
       "      <td>0.082764</td>\n",
       "      <td>0.313725</td>\n",
       "      <td>0.030904</td>\n",
       "      <td>0.023323</td>\n",
       "      <td>0.028140</td>\n",
       "      <td>0.001314</td>\n",
       "      <td>0.732200</td>\n",
       "      <td>0.311753</td>\n",
       "    </tr>\n",
       "    <tr>\n",
       "      <th>20638</th>\n",
       "      <td>0.094295</td>\n",
       "      <td>0.333333</td>\n",
       "      <td>0.031783</td>\n",
       "      <td>0.024859</td>\n",
       "      <td>0.020684</td>\n",
       "      <td>0.001152</td>\n",
       "      <td>0.732200</td>\n",
       "      <td>0.301793</td>\n",
       "    </tr>\n",
       "    <tr>\n",
       "      <th>20639</th>\n",
       "      <td>0.130253</td>\n",
       "      <td>0.294118</td>\n",
       "      <td>0.031252</td>\n",
       "      <td>0.024573</td>\n",
       "      <td>0.038790</td>\n",
       "      <td>0.001549</td>\n",
       "      <td>0.725824</td>\n",
       "      <td>0.309761</td>\n",
       "    </tr>\n",
       "  </tbody>\n",
       "</table>\n",
       "<p>20640 rows × 8 columns</p>\n",
       "</div>"
      ],
      "text/plain": [
       "         MedInc  HouseAge  AveRooms  AveBedrms  Population  AveOccup  \\\n",
       "0      0.539668  0.784314  0.043512   0.020469    0.008941  0.001499   \n",
       "1      0.538027  0.392157  0.038224   0.018929    0.067210  0.001141   \n",
       "2      0.466028  1.000000  0.052756   0.021940    0.013818  0.001698   \n",
       "3      0.354699  1.000000  0.035241   0.021929    0.015555  0.001493   \n",
       "4      0.230776  1.000000  0.038534   0.022166    0.015752  0.001198   \n",
       "...         ...       ...       ...        ...         ...       ...   \n",
       "20635  0.073130  0.470588  0.029769   0.023715    0.023599  0.001503   \n",
       "20636  0.141853  0.333333  0.037344   0.029124    0.009894  0.001956   \n",
       "20637  0.082764  0.313725  0.030904   0.023323    0.028140  0.001314   \n",
       "20638  0.094295  0.333333  0.031783   0.024859    0.020684  0.001152   \n",
       "20639  0.130253  0.294118  0.031252   0.024573    0.038790  0.001549   \n",
       "\n",
       "       Latitude  Longitude  \n",
       "0      0.567481   0.211155  \n",
       "1      0.565356   0.212151  \n",
       "2      0.564293   0.210159  \n",
       "3      0.564293   0.209163  \n",
       "4      0.564293   0.209163  \n",
       "...         ...        ...  \n",
       "20635  0.737513   0.324701  \n",
       "20636  0.738576   0.312749  \n",
       "20637  0.732200   0.311753  \n",
       "20638  0.732200   0.301793  \n",
       "20639  0.725824   0.309761  \n",
       "\n",
       "[20640 rows x 8 columns]"
      ]
     },
     "execution_count": 20,
     "metadata": {},
     "output_type": "execute_result"
    }
   ],
   "source": [
    "scaled_df"
   ]
  },
  {
   "cell_type": "code",
   "execution_count": 21,
   "metadata": {},
   "outputs": [],
   "source": [
    "from sklearn.model_selection import train_test_split"
   ]
  },
  {
   "cell_type": "code",
   "execution_count": 22,
   "metadata": {},
   "outputs": [],
   "source": [
    "x_train_df, x_test_df, y_train_df, y_test_df = train_test_split(scaled_df, df_target, test_size=0.25, random_state=42)"
   ]
  },
  {
   "cell_type": "code",
   "execution_count": 23,
   "metadata": {},
   "outputs": [
    {
     "data": {
      "text/html": [
       "<div>\n",
       "<style scoped>\n",
       "    .dataframe tbody tr th:only-of-type {\n",
       "        vertical-align: middle;\n",
       "    }\n",
       "\n",
       "    .dataframe tbody tr th {\n",
       "        vertical-align: top;\n",
       "    }\n",
       "\n",
       "    .dataframe thead th {\n",
       "        text-align: right;\n",
       "    }\n",
       "</style>\n",
       "<table border=\"1\" class=\"dataframe\">\n",
       "  <thead>\n",
       "    <tr style=\"text-align: right;\">\n",
       "      <th></th>\n",
       "      <th>MedInc</th>\n",
       "      <th>HouseAge</th>\n",
       "      <th>AveRooms</th>\n",
       "      <th>AveBedrms</th>\n",
       "      <th>Population</th>\n",
       "      <th>AveOccup</th>\n",
       "      <th>Latitude</th>\n",
       "      <th>Longitude</th>\n",
       "    </tr>\n",
       "  </thead>\n",
       "  <tbody>\n",
       "    <tr>\n",
       "      <th>8158</th>\n",
       "      <td>0.256162</td>\n",
       "      <td>0.705882</td>\n",
       "      <td>0.031490</td>\n",
       "      <td>0.018978</td>\n",
       "      <td>0.024020</td>\n",
       "      <td>0.001478</td>\n",
       "      <td>0.134963</td>\n",
       "      <td>0.620518</td>\n",
       "    </tr>\n",
       "    <tr>\n",
       "      <th>18368</th>\n",
       "      <td>0.334264</td>\n",
       "      <td>0.803922</td>\n",
       "      <td>0.039118</td>\n",
       "      <td>0.022370</td>\n",
       "      <td>0.026738</td>\n",
       "      <td>0.001378</td>\n",
       "      <td>0.490967</td>\n",
       "      <td>0.236056</td>\n",
       "    </tr>\n",
       "    <tr>\n",
       "      <th>19197</th>\n",
       "      <td>0.235804</td>\n",
       "      <td>0.686275</td>\n",
       "      <td>0.037316</td>\n",
       "      <td>0.021534</td>\n",
       "      <td>0.019844</td>\n",
       "      <td>0.001242</td>\n",
       "      <td>0.628055</td>\n",
       "      <td>0.165339</td>\n",
       "    </tr>\n",
       "    <tr>\n",
       "      <th>3746</th>\n",
       "      <td>0.404850</td>\n",
       "      <td>0.607843</td>\n",
       "      <td>0.036536</td>\n",
       "      <td>0.019472</td>\n",
       "      <td>0.032400</td>\n",
       "      <td>0.001272</td>\n",
       "      <td>0.172157</td>\n",
       "      <td>0.591633</td>\n",
       "    </tr>\n",
       "    <tr>\n",
       "      <th>13073</th>\n",
       "      <td>0.128860</td>\n",
       "      <td>0.313725</td>\n",
       "      <td>0.028000</td>\n",
       "      <td>0.020815</td>\n",
       "      <td>0.019703</td>\n",
       "      <td>0.001124</td>\n",
       "      <td>0.640808</td>\n",
       "      <td>0.300797</td>\n",
       "    </tr>\n",
       "    <tr>\n",
       "      <th>...</th>\n",
       "      <td>...</td>\n",
       "      <td>...</td>\n",
       "      <td>...</td>\n",
       "      <td>...</td>\n",
       "      <td>...</td>\n",
       "      <td>...</td>\n",
       "      <td>...</td>\n",
       "      <td>...</td>\n",
       "    </tr>\n",
       "    <tr>\n",
       "      <th>11284</th>\n",
       "      <td>0.404829</td>\n",
       "      <td>0.666667</td>\n",
       "      <td>0.037451</td>\n",
       "      <td>0.017577</td>\n",
       "      <td>0.018358</td>\n",
       "      <td>0.001883</td>\n",
       "      <td>0.131775</td>\n",
       "      <td>0.636454</td>\n",
       "    </tr>\n",
       "    <tr>\n",
       "      <th>11964</th>\n",
       "      <td>0.175867</td>\n",
       "      <td>0.627451</td>\n",
       "      <td>0.042693</td>\n",
       "      <td>0.027752</td>\n",
       "      <td>0.049048</td>\n",
       "      <td>0.002585</td>\n",
       "      <td>0.157279</td>\n",
       "      <td>0.689243</td>\n",
       "    </tr>\n",
       "    <tr>\n",
       "      <th>5390</th>\n",
       "      <td>0.167894</td>\n",
       "      <td>0.686275</td>\n",
       "      <td>0.022264</td>\n",
       "      <td>0.022125</td>\n",
       "      <td>0.049133</td>\n",
       "      <td>0.002124</td>\n",
       "      <td>0.158342</td>\n",
       "      <td>0.594622</td>\n",
       "    </tr>\n",
       "    <tr>\n",
       "      <th>860</th>\n",
       "      <td>0.359947</td>\n",
       "      <td>0.274510</td>\n",
       "      <td>0.039338</td>\n",
       "      <td>0.021778</td>\n",
       "      <td>0.049721</td>\n",
       "      <td>0.002001</td>\n",
       "      <td>0.535600</td>\n",
       "      <td>0.238048</td>\n",
       "    </tr>\n",
       "    <tr>\n",
       "      <th>15795</th>\n",
       "      <td>0.143143</td>\n",
       "      <td>1.000000</td>\n",
       "      <td>0.018123</td>\n",
       "      <td>0.021505</td>\n",
       "      <td>0.073320</td>\n",
       "      <td>0.001140</td>\n",
       "      <td>0.555792</td>\n",
       "      <td>0.192231</td>\n",
       "    </tr>\n",
       "  </tbody>\n",
       "</table>\n",
       "<p>15480 rows × 8 columns</p>\n",
       "</div>"
      ],
      "text/plain": [
       "         MedInc  HouseAge  AveRooms  AveBedrms  Population  AveOccup  \\\n",
       "8158   0.256162  0.705882  0.031490   0.018978    0.024020  0.001478   \n",
       "18368  0.334264  0.803922  0.039118   0.022370    0.026738  0.001378   \n",
       "19197  0.235804  0.686275  0.037316   0.021534    0.019844  0.001242   \n",
       "3746   0.404850  0.607843  0.036536   0.019472    0.032400  0.001272   \n",
       "13073  0.128860  0.313725  0.028000   0.020815    0.019703  0.001124   \n",
       "...         ...       ...       ...        ...         ...       ...   \n",
       "11284  0.404829  0.666667  0.037451   0.017577    0.018358  0.001883   \n",
       "11964  0.175867  0.627451  0.042693   0.027752    0.049048  0.002585   \n",
       "5390   0.167894  0.686275  0.022264   0.022125    0.049133  0.002124   \n",
       "860    0.359947  0.274510  0.039338   0.021778    0.049721  0.002001   \n",
       "15795  0.143143  1.000000  0.018123   0.021505    0.073320  0.001140   \n",
       "\n",
       "       Latitude  Longitude  \n",
       "8158   0.134963   0.620518  \n",
       "18368  0.490967   0.236056  \n",
       "19197  0.628055   0.165339  \n",
       "3746   0.172157   0.591633  \n",
       "13073  0.640808   0.300797  \n",
       "...         ...        ...  \n",
       "11284  0.131775   0.636454  \n",
       "11964  0.157279   0.689243  \n",
       "5390   0.158342   0.594622  \n",
       "860    0.535600   0.238048  \n",
       "15795  0.555792   0.192231  \n",
       "\n",
       "[15480 rows x 8 columns]"
      ]
     },
     "execution_count": 23,
     "metadata": {},
     "output_type": "execute_result"
    }
   ],
   "source": [
    "x_train_df"
   ]
  },
  {
   "cell_type": "code",
   "execution_count": 24,
   "metadata": {},
   "outputs": [],
   "source": [
    "scaled_y_train = y_train_df.copy()"
   ]
  },
  {
   "cell_type": "code",
   "execution_count": 25,
   "metadata": {},
   "outputs": [],
   "source": [
    "scaled_y_test = y_test_df.copy()"
   ]
  },
  {
   "cell_type": "code",
   "execution_count": 26,
   "metadata": {},
   "outputs": [],
   "source": [
    "scaled_target_train = scaler.fit_transform(scaled_y_train)"
   ]
  },
  {
   "cell_type": "code",
   "execution_count": 27,
   "metadata": {},
   "outputs": [],
   "source": [
    "scaled_target_test = scaler.fit_transform(scaled_y_test)"
   ]
  },
  {
   "cell_type": "markdown",
   "metadata": {
    "id": "59veuiEZCaW4"
   },
   "source": [
    "## Building a model"
   ]
  },
  {
   "cell_type": "code",
   "execution_count": 28,
   "metadata": {},
   "outputs": [],
   "source": [
    "#input_data = Input(shape=(8))\n",
    "#layer_1 = Dense(300, activation='relu')(input_data)\n",
    "#output_layer = Dense(1, activation='linear')(layer_1)\n"
   ]
  },
  {
   "cell_type": "code",
   "execution_count": 29,
   "metadata": {},
   "outputs": [],
   "source": [
    "input_data = Input(shape=(8))\n",
    "layer_1 = Dense(50, activation='relu')(input_data)\n",
    "layer_2 = Dense(30, activation='relu')(layer_1)\n",
    "output_layer = Dense(1, activation='linear')(layer_2)"
   ]
  },
  {
   "cell_type": "code",
   "execution_count": 30,
   "metadata": {},
   "outputs": [],
   "source": [
    "model=Model(inputs=input_data,outputs=output_layer)\n",
    "model.compile(optimizer=Adam(learning_rate=0.05),\n",
    "              loss=MeanSquaredError(),\n",
    "              metrics=[RootMeanSquaredError(), MeanAbsolutePercentageError()])"
   ]
  },
  {
   "cell_type": "code",
   "execution_count": 31,
   "metadata": {},
   "outputs": [
    {
     "name": "stdout",
     "output_type": "stream",
     "text": [
      "Epoch 1/30\n",
      "387/387 [==============================] - 2s 3ms/step - loss: 0.7004 - root_mean_squared_error: 0.8369 - mean_absolute_percentage_error: 35.8960 - val_loss: 0.5364 - val_root_mean_squared_error: 0.7324 - val_mean_absolute_percentage_error: 28.0463\n",
      "Epoch 2/30\n",
      "387/387 [==============================] - 1s 2ms/step - loss: 0.5128 - root_mean_squared_error: 0.7161 - mean_absolute_percentage_error: 30.2252 - val_loss: 0.5041 - val_root_mean_squared_error: 0.7100 - val_mean_absolute_percentage_error: 26.4254\n",
      "Epoch 3/30\n",
      "387/387 [==============================] - 1s 2ms/step - loss: 0.4964 - root_mean_squared_error: 0.7046 - mean_absolute_percentage_error: 29.8266 - val_loss: 0.5414 - val_root_mean_squared_error: 0.7358 - val_mean_absolute_percentage_error: 36.2164\n",
      "Epoch 4/30\n",
      "387/387 [==============================] - 1s 2ms/step - loss: 0.4892 - root_mean_squared_error: 0.6994 - mean_absolute_percentage_error: 29.5854 - val_loss: 0.4915 - val_root_mean_squared_error: 0.7011 - val_mean_absolute_percentage_error: 28.5475\n",
      "Epoch 5/30\n",
      "387/387 [==============================] - 1s 2ms/step - loss: 0.4902 - root_mean_squared_error: 0.7002 - mean_absolute_percentage_error: 29.6320 - val_loss: 0.4740 - val_root_mean_squared_error: 0.6885 - val_mean_absolute_percentage_error: 29.8860\n",
      "Epoch 6/30\n",
      "387/387 [==============================] - 1s 2ms/step - loss: 0.4682 - root_mean_squared_error: 0.6843 - mean_absolute_percentage_error: 28.8687 - val_loss: 0.5204 - val_root_mean_squared_error: 0.7214 - val_mean_absolute_percentage_error: 25.2361\n",
      "Epoch 7/30\n",
      "387/387 [==============================] - 1s 2ms/step - loss: 0.4595 - root_mean_squared_error: 0.6779 - mean_absolute_percentage_error: 28.2459 - val_loss: 0.4725 - val_root_mean_squared_error: 0.6874 - val_mean_absolute_percentage_error: 26.7388\n",
      "Epoch 8/30\n",
      "387/387 [==============================] - 1s 2ms/step - loss: 0.4608 - root_mean_squared_error: 0.6788 - mean_absolute_percentage_error: 28.5597 - val_loss: 0.7176 - val_root_mean_squared_error: 0.8471 - val_mean_absolute_percentage_error: 47.3133\n",
      "Epoch 9/30\n",
      "387/387 [==============================] - 1s 2ms/step - loss: 0.4691 - root_mean_squared_error: 0.6849 - mean_absolute_percentage_error: 29.3370 - val_loss: 0.5075 - val_root_mean_squared_error: 0.7124 - val_mean_absolute_percentage_error: 25.4321\n",
      "Epoch 10/30\n",
      "387/387 [==============================] - 1s 2ms/step - loss: 0.4571 - root_mean_squared_error: 0.6761 - mean_absolute_percentage_error: 28.4474 - val_loss: 0.4885 - val_root_mean_squared_error: 0.6989 - val_mean_absolute_percentage_error: 32.8748\n",
      "Epoch 11/30\n",
      "387/387 [==============================] - 1s 2ms/step - loss: 0.4583 - root_mean_squared_error: 0.6770 - mean_absolute_percentage_error: 28.4506 - val_loss: 0.5483 - val_root_mean_squared_error: 0.7405 - val_mean_absolute_percentage_error: 25.7225\n",
      "Epoch 12/30\n",
      "387/387 [==============================] - 1s 2ms/step - loss: 0.4529 - root_mean_squared_error: 0.6730 - mean_absolute_percentage_error: 28.4723 - val_loss: 0.4897 - val_root_mean_squared_error: 0.6998 - val_mean_absolute_percentage_error: 32.4270\n",
      "Epoch 13/30\n",
      "387/387 [==============================] - 1s 2ms/step - loss: 0.4563 - root_mean_squared_error: 0.6755 - mean_absolute_percentage_error: 28.7112 - val_loss: 0.4558 - val_root_mean_squared_error: 0.6751 - val_mean_absolute_percentage_error: 28.2548\n",
      "Epoch 14/30\n",
      "387/387 [==============================] - 1s 2ms/step - loss: 0.4474 - root_mean_squared_error: 0.6689 - mean_absolute_percentage_error: 28.2550 - val_loss: 0.4808 - val_root_mean_squared_error: 0.6934 - val_mean_absolute_percentage_error: 25.6935\n",
      "Epoch 15/30\n",
      "387/387 [==============================] - 1s 2ms/step - loss: 0.4426 - root_mean_squared_error: 0.6653 - mean_absolute_percentage_error: 28.0902 - val_loss: 0.4805 - val_root_mean_squared_error: 0.6932 - val_mean_absolute_percentage_error: 30.2239\n",
      "Epoch 16/30\n",
      "387/387 [==============================] - 1s 2ms/step - loss: 0.4430 - root_mean_squared_error: 0.6656 - mean_absolute_percentage_error: 28.1118 - val_loss: 0.4637 - val_root_mean_squared_error: 0.6810 - val_mean_absolute_percentage_error: 29.5154\n",
      "Epoch 17/30\n",
      "387/387 [==============================] - 1s 2ms/step - loss: 0.4402 - root_mean_squared_error: 0.6635 - mean_absolute_percentage_error: 28.1364 - val_loss: 0.4522 - val_root_mean_squared_error: 0.6725 - val_mean_absolute_percentage_error: 27.2978\n",
      "Epoch 18/30\n",
      "387/387 [==============================] - 1s 2ms/step - loss: 0.4352 - root_mean_squared_error: 0.6597 - mean_absolute_percentage_error: 27.8668 - val_loss: 0.4517 - val_root_mean_squared_error: 0.6721 - val_mean_absolute_percentage_error: 26.1799\n",
      "Epoch 19/30\n",
      "387/387 [==============================] - 1s 2ms/step - loss: 0.4381 - root_mean_squared_error: 0.6619 - mean_absolute_percentage_error: 27.9571 - val_loss: 0.4686 - val_root_mean_squared_error: 0.6845 - val_mean_absolute_percentage_error: 25.0319\n",
      "Epoch 20/30\n",
      "387/387 [==============================] - 1s 2ms/step - loss: 0.4369 - root_mean_squared_error: 0.6610 - mean_absolute_percentage_error: 28.0341 - val_loss: 0.5061 - val_root_mean_squared_error: 0.7114 - val_mean_absolute_percentage_error: 25.8815\n",
      "Epoch 21/30\n",
      "387/387 [==============================] - 1s 2ms/step - loss: 0.4460 - root_mean_squared_error: 0.6679 - mean_absolute_percentage_error: 28.4290 - val_loss: 0.4642 - val_root_mean_squared_error: 0.6813 - val_mean_absolute_percentage_error: 26.3157\n",
      "Epoch 22/30\n",
      "387/387 [==============================] - 1s 2ms/step - loss: 0.4357 - root_mean_squared_error: 0.6601 - mean_absolute_percentage_error: 27.9664 - val_loss: 0.4923 - val_root_mean_squared_error: 0.7017 - val_mean_absolute_percentage_error: 25.7675\n",
      "Epoch 23/30\n",
      "387/387 [==============================] - 1s 2ms/step - loss: 0.4329 - root_mean_squared_error: 0.6579 - mean_absolute_percentage_error: 27.8236 - val_loss: 0.4572 - val_root_mean_squared_error: 0.6761 - val_mean_absolute_percentage_error: 26.3903\n",
      "Epoch 24/30\n",
      "387/387 [==============================] - 1s 2ms/step - loss: 0.4332 - root_mean_squared_error: 0.6582 - mean_absolute_percentage_error: 27.9873 - val_loss: 0.4474 - val_root_mean_squared_error: 0.6689 - val_mean_absolute_percentage_error: 28.4538\n",
      "Epoch 25/30\n",
      "387/387 [==============================] - 1s 2ms/step - loss: 0.4308 - root_mean_squared_error: 0.6564 - mean_absolute_percentage_error: 27.6564 - val_loss: 0.4454 - val_root_mean_squared_error: 0.6674 - val_mean_absolute_percentage_error: 30.0059\n",
      "Epoch 26/30\n",
      "387/387 [==============================] - 1s 2ms/step - loss: 0.4400 - root_mean_squared_error: 0.6633 - mean_absolute_percentage_error: 28.1824 - val_loss: 0.4471 - val_root_mean_squared_error: 0.6687 - val_mean_absolute_percentage_error: 27.8726\n",
      "Epoch 27/30\n",
      "387/387 [==============================] - 1s 2ms/step - loss: 0.4298 - root_mean_squared_error: 0.6556 - mean_absolute_percentage_error: 27.8798 - val_loss: 0.4365 - val_root_mean_squared_error: 0.6607 - val_mean_absolute_percentage_error: 26.5124\n",
      "Epoch 28/30\n",
      "387/387 [==============================] - 1s 2ms/step - loss: 0.4290 - root_mean_squared_error: 0.6550 - mean_absolute_percentage_error: 27.8870 - val_loss: 0.4420 - val_root_mean_squared_error: 0.6648 - val_mean_absolute_percentage_error: 25.8464\n",
      "Epoch 29/30\n",
      "387/387 [==============================] - 1s 2ms/step - loss: 0.4294 - root_mean_squared_error: 0.6553 - mean_absolute_percentage_error: 27.9533 - val_loss: 0.4555 - val_root_mean_squared_error: 0.6749 - val_mean_absolute_percentage_error: 30.1214\n",
      "Epoch 30/30\n",
      "387/387 [==============================] - 1s 2ms/step - loss: 0.4247 - root_mean_squared_error: 0.6517 - mean_absolute_percentage_error: 27.7059 - val_loss: 0.4415 - val_root_mean_squared_error: 0.6645 - val_mean_absolute_percentage_error: 26.4678\n"
     ]
    },
    {
     "data": {
      "text/plain": [
       "<keras.callbacks.History at 0x1b9e122b488>"
      ]
     },
     "execution_count": 31,
     "metadata": {},
     "output_type": "execute_result"
    }
   ],
   "source": [
    "model.fit(x_train_df.values, y_train_df.values, epochs = 30, validation_split = 0.2)"
   ]
  },
  {
   "cell_type": "code",
   "execution_count": 32,
   "metadata": {},
   "outputs": [
    {
     "name": "stdout",
     "output_type": "stream",
     "text": [
      "162/162 [==============================] - 1s 2ms/step - loss: 0.4188 - root_mean_squared_error: 0.6472 - mean_absolute_percentage_error: 27.0188\n"
     ]
    },
    {
     "data": {
      "text/plain": [
       "[0.4188315272331238, 0.6471719741821289, 27.018829345703125]"
      ]
     },
     "execution_count": 32,
     "metadata": {},
     "output_type": "execute_result"
    }
   ],
   "source": [
    "model.evaluate(x_test_df, y_test_df)"
   ]
  },
  {
   "cell_type": "code",
   "execution_count": 33,
   "metadata": {},
   "outputs": [
    {
     "name": "stdout",
     "output_type": "stream",
     "text": [
      "162/162 [==============================] - 0s 1ms/step\n"
     ]
    }
   ],
   "source": [
    "test_predict = model.predict(x_test_df)"
   ]
  },
  {
   "cell_type": "code",
   "execution_count": 34,
   "metadata": {},
   "outputs": [],
   "source": [
    "y_test_df['predictions'] = test_predict"
   ]
  },
  {
   "cell_type": "code",
   "execution_count": 35,
   "metadata": {},
   "outputs": [
    {
     "data": {
      "text/html": [
       "<div>\n",
       "<style scoped>\n",
       "    .dataframe tbody tr th:only-of-type {\n",
       "        vertical-align: middle;\n",
       "    }\n",
       "\n",
       "    .dataframe tbody tr th {\n",
       "        vertical-align: top;\n",
       "    }\n",
       "\n",
       "    .dataframe thead th {\n",
       "        text-align: right;\n",
       "    }\n",
       "</style>\n",
       "<table border=\"1\" class=\"dataframe\">\n",
       "  <thead>\n",
       "    <tr style=\"text-align: right;\">\n",
       "      <th></th>\n",
       "      <th>MedHouseVal</th>\n",
       "      <th>predictions</th>\n",
       "    </tr>\n",
       "  </thead>\n",
       "  <tbody>\n",
       "    <tr>\n",
       "      <th>20046</th>\n",
       "      <td>0.47700</td>\n",
       "      <td>1.004439</td>\n",
       "    </tr>\n",
       "    <tr>\n",
       "      <th>3024</th>\n",
       "      <td>0.45800</td>\n",
       "      <td>1.720192</td>\n",
       "    </tr>\n",
       "    <tr>\n",
       "      <th>15663</th>\n",
       "      <td>5.00001</td>\n",
       "      <td>3.319048</td>\n",
       "    </tr>\n",
       "    <tr>\n",
       "      <th>20484</th>\n",
       "      <td>2.18600</td>\n",
       "      <td>2.609795</td>\n",
       "    </tr>\n",
       "    <tr>\n",
       "      <th>9814</th>\n",
       "      <td>2.78000</td>\n",
       "      <td>2.653605</td>\n",
       "    </tr>\n",
       "    <tr>\n",
       "      <th>...</th>\n",
       "      <td>...</td>\n",
       "      <td>...</td>\n",
       "    </tr>\n",
       "    <tr>\n",
       "      <th>5363</th>\n",
       "      <td>5.00001</td>\n",
       "      <td>4.339603</td>\n",
       "    </tr>\n",
       "    <tr>\n",
       "      <th>19755</th>\n",
       "      <td>0.63200</td>\n",
       "      <td>1.004439</td>\n",
       "    </tr>\n",
       "    <tr>\n",
       "      <th>4885</th>\n",
       "      <td>1.17700</td>\n",
       "      <td>1.253122</td>\n",
       "    </tr>\n",
       "    <tr>\n",
       "      <th>13043</th>\n",
       "      <td>2.63100</td>\n",
       "      <td>2.008301</td>\n",
       "    </tr>\n",
       "    <tr>\n",
       "      <th>8583</th>\n",
       "      <td>4.81500</td>\n",
       "      <td>3.992929</td>\n",
       "    </tr>\n",
       "  </tbody>\n",
       "</table>\n",
       "<p>5160 rows × 2 columns</p>\n",
       "</div>"
      ],
      "text/plain": [
       "       MedHouseVal  predictions\n",
       "20046      0.47700     1.004439\n",
       "3024       0.45800     1.720192\n",
       "15663      5.00001     3.319048\n",
       "20484      2.18600     2.609795\n",
       "9814       2.78000     2.653605\n",
       "...            ...          ...\n",
       "5363       5.00001     4.339603\n",
       "19755      0.63200     1.004439\n",
       "4885       1.17700     1.253122\n",
       "13043      2.63100     2.008301\n",
       "8583       4.81500     3.992929\n",
       "\n",
       "[5160 rows x 2 columns]"
      ]
     },
     "execution_count": 35,
     "metadata": {},
     "output_type": "execute_result"
    }
   ],
   "source": [
    "y_test_df"
   ]
  },
  {
   "cell_type": "code",
   "execution_count": 36,
   "metadata": {},
   "outputs": [
    {
     "data": {
      "text/plain": [
       "<function matplotlib.pyplot.show(close=None, block=None)>"
      ]
     },
     "execution_count": 36,
     "metadata": {},
     "output_type": "execute_result"
    },
    {
     "data": {
      "image/png": "[encoded data removed]",
      "text/plain": [
       "<Figure size 1800x720 with 1 Axes>"
      ]
     },
     "metadata": {
      "needs_background": "light"
     },
     "output_type": "display_data"
    }
   ],
   "source": [
    "x = np.arange(100)\n",
    "plt.figure(figsize=(25,10))\n",
    "plt.plot((x,x),(y_test_df['predictions'].values[:100], y_test_df['MedHouseVal'].values[:100]),c='black')\n",
    "plt.scatter(x, y_test_df['predictions'].values[:100], label='pred')\n",
    "plt.scatter(x, y_test_df['MedHouseVal'].values[:100], label='true_value')\n",
    "plt.ylabel('object value')\n",
    "plt.legend()\n",
    "plt.show"
   ]
  },
  {
   "cell_type": "code",
   "execution_count": null,
   "metadata": {},
   "outputs": [],
   "source": []
  }
 ],
 "metadata": {
  "accelerator": "GPU",
  "colab": {
   "collapsed_sections": [],
   "provenance": []
  },
  "kernelspec": {
   "display_name": "Python 3",
   "language": "python",
   "name": "python3"
  },
  "language_info": {
   "codemirror_mode": {
    "name": "ipython",
    "version": 3
   },
   "file_extension": ".py",
   "mimetype": "text/x-python",
   "name": "python",
   "nbconvert_exporter": "python",
   "pygments_lexer": "ipython3",
   "version": "3.7.9"
  }
 },
 "nbformat": 4,
 "nbformat_minor": 1
}
