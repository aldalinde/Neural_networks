{
 "cells": [
  {
   "cell_type": "markdown",
   "metadata": {
    "id": "GJqW1sHnm591"
   },
   "source": [
    "# Введение в искусственные нейронные сети\n",
    "# Урок 4. Сверточные нейронные сети"
   ]
  },
  {
   "cell_type": "code",
   "execution_count": 1,
   "metadata": {
    "id": "iGu1gJYrtSam"
   },
   "outputs": [],
   "source": [
    "#import cv2\n",
    "import matplotlib.pyplot as plt"
   ]
  },
  {
   "cell_type": "code",
   "execution_count": 2,
   "metadata": {
    "id": "jVlE5weZatMB"
   },
   "outputs": [],
   "source": [
    "import numpy as np\n",
    "\n",
    "from tensorflow.keras.models import Sequential, Model\n",
    "from tensorflow.keras.layers import Conv2D, Input\n",
    "from tensorflow.keras.layers import GlobalMaxPooling2D, MaxPooling2D, AveragePooling2D, GlobalAveragePooling2D \n",
    "from tensorflow.keras.models import Sequential\n",
    "from tensorflow.keras import models, layers\n",
    "\n",
    "import tensorflow.keras as keras\n",
    "import tensorflow as tf\n",
    "from tensorflow.keras.utils import plot_model"
   ]
  },
  {
   "cell_type": "markdown",
   "metadata": {
    "id": "PHqn01Vpm5-c"
   },
   "source": [
    "## Практическое задание\n",
    "\n",
    "- обучить сверточную нейронную сеть в стиле AlexNet (с падением размера ядра свертки и последовательностью блоков свертка-пулинг  (conv-pool)-(conv-pool)-...) на датасете fashion-mnist или cifar10\n"
   ]
  },
  {
   "cell_type": "code",
   "execution_count": 3,
   "metadata": {
    "colab": {
     "base_uri": "https://localhost:8080/"
    },
    "executionInfo": {
     "elapsed": 1336,
     "status": "ok",
     "timestamp": 1666117736922,
     "user": {
      "displayName": "Mariia Korliakova",
      "userId": "14165537686129864864"
     },
     "user_tz": -180
    },
    "id": "PdX4riMptTXy",
    "outputId": "24836012-5d96-4cf7-a223-46511c90c568"
   },
   "outputs": [],
   "source": [
    "from tensorflow.keras.datasets import fashion_mnist\n",
    "from tensorflow.keras.utils import to_categorical\n",
    "\n",
    "# загрузка тренировочных и тестовых данных\n",
    "(x_train, y_train), (x_test, y_test) = fashion_mnist.load_data()\n",
    "\n",
    "# конвертация чисел из uint8 в float32\n",
    "x_train = x_train.astype('float32')\n",
    "x_test = x_test.astype('float32')\n",
    "\n",
    "# нормализация данных [0, 1]\n",
    "x_train /= 255 \n",
    "x_test /= 255 \n",
    "\n",
    "# трансформация лейблов в one-hot encoding\n",
    "y_train = to_categorical(y_train, 10) \n",
    "y_test = to_categorical(y_test, 10) \n",
    "\n",
    "# изменение размерности массива в 4D массив\n",
    "x_train = x_train.reshape(x_train.shape[0], 28,28,1)\n",
    "x_test = x_test.reshape(x_test.shape[0], 28,28,1)"
   ]
  },
  {
   "cell_type": "markdown",
   "metadata": {},
   "source": [
    "* AlexNet: an 8-layered NN with 5 conv layers and 3 dense layers with relu as an activation function.\n",
    "The condition (conv-pool)-(conv-pool):\n",
    "if we pair each convolutional (even excepting the last fifth) layer with pooling layer we get 12 layers total (and flattening layer preceeding the first of the dense) but so much pooling will reduce dimentions from 28 to a very small size. We'll give it a try, but it will hardly give the dense layers any info to work on even with multiple filters. So we'll use pooling only after the first and the forth convolutional layers."
   ]
  },
  {
   "cell_type": "code",
   "execution_count": 4,
   "metadata": {},
   "outputs": [
    {
     "name": "stdout",
     "output_type": "stream",
     "text": [
      "Epoch 1/6\n",
      "469/469 [==============================] - 42s 87ms/step - loss: 2.1804 - accuracy: 0.2060 - val_loss: 1.0757 - val_accuracy: 0.6103\n",
      "Epoch 2/6\n",
      "469/469 [==============================] - 45s 96ms/step - loss: 0.7968 - accuracy: 0.7003 - val_loss: 0.6973 - val_accuracy: 0.7428\n",
      "Epoch 3/6\n",
      "469/469 [==============================] - 45s 96ms/step - loss: 0.6435 - accuracy: 0.7609 - val_loss: 0.6306 - val_accuracy: 0.7664\n",
      "Epoch 4/6\n",
      "469/469 [==============================] - 46s 99ms/step - loss: 0.5676 - accuracy: 0.7884 - val_loss: 0.5998 - val_accuracy: 0.7713\n",
      "Epoch 5/6\n",
      "469/469 [==============================] - 46s 98ms/step - loss: 0.5216 - accuracy: 0.8080 - val_loss: 0.5292 - val_accuracy: 0.8103\n",
      "Epoch 6/6\n",
      "469/469 [==============================] - 46s 98ms/step - loss: 0.4896 - accuracy: 0.8214 - val_loss: 0.5241 - val_accuracy: 0.8033\n",
      "313/313 [==============================] - 3s 10ms/step - loss: 0.5241 - accuracy: 0.8033\n",
      "Test loss 0.5241, accuracy 80.33%\n"
     ]
    }
   ],
   "source": [
    "# инициализация пустой модели\n",
    "model = Sequential()\n",
    "\n",
    "# первый сверточный слой\n",
    "model.add(layers.Conv2D(3, 5, strides=(1, 1), activation='relu', input_shape=(28,28,1), padding=\"same\"))\n",
    "\n",
    "# второй пуллинговый слой\n",
    "model.add(layers.AveragePooling2D(pool_size=(2, 2), strides=(2, 2), padding='valid'))\n",
    "\n",
    "# третий сверточный слой\n",
    "model.add(layers.Conv2D(6, 3, strides=(1, 1), activation='relu', padding='same'))\n",
    "\n",
    "# четвертый пуллинговый слой\n",
    "#model.add(layers.AveragePooling2D(pool_size=(2, 2), strides=(2, 2), padding='valid'))\n",
    "\n",
    "# the fifth conv layer\n",
    "model.add(layers.Conv2D(6, 5, strides=(1, 1), activation='relu', padding='same'))\n",
    "\n",
    "# the sixth pooling layer\n",
    "#model.add(layers.AveragePooling2D(pool_size=(2, 2), strides=(2, 2), padding='valid'))\n",
    "\n",
    "# the seventh conv layer\n",
    "model.add(layers.Conv2D(10, 5, strides=(1, 1), activation='relu', padding='same'))\n",
    "\n",
    "# the eighth pooling layer\n",
    "model.add(layers.AveragePooling2D(pool_size=(2, 2), strides=(2, 2), padding='valid'))\n",
    "\n",
    "# the ninth conv layer\n",
    "model.add(layers.Conv2D(16, 3, strides=(1, 1), activation='relu', padding='same'))\n",
    "\n",
    "# сглаживание CNN выхода чтобы можно было его присоединить к полносвязногому слою\n",
    "model.add(layers.Flatten())\n",
    "\n",
    "# the tenth dense layer\n",
    "model.add(layers.Dense(76, activation='relu'))\n",
    "# the el dense layer\n",
    "model.add(layers.Dense(84, activation='relu'))\n",
    "# the tenth dense layer\n",
    "model.add(layers.Dense(102, activation='relu'))\n",
    "\n",
    "# выходной слой с функцией активации softmax\n",
    "model.add(layers.Dense(10, activation='softmax'))\n",
    "\n",
    "\n",
    "# компилияция модели\n",
    "model.compile(loss=keras.losses.categorical_crossentropy, optimizer='SGD', metrics=[\"accuracy\"])\n",
    "\n",
    "\n",
    "hist = model.fit(x=x_train,y=y_train, epochs=6, batch_size=128, validation_data=(x_test, y_test), verbose=1)\n",
    "\n",
    "test_score = model.evaluate(x_test, y_test)\n",
    "print(\"Test loss {:.4f}, accuracy {:.2f}%\".format(test_score[0], test_score[1] * 100))\n",
    "\n",
    "\n"
   ]
  },
  {
   "cell_type": "markdown",
   "metadata": {},
   "source": [
    "* ***after 2 epochs:***\n",
    "\"Epoch 1/2\n",
    "469/469  - 42s 88ms/step - loss: 2.2927 - accuracy: 0.2575 - val_loss: 2.2735 - val_accuracy: 0.2952  \n",
    "\n",
    "Epoch 2/2\n",
    "469/469  - 40s 86ms/step - loss: 1.4796 - accuracy: 0.4807 - val_loss: 0.8810 - val_accuracy: 0.6517  \n",
    "\n",
    "313/313  - 3s 10ms/step - loss: 0.8810 - ***accuracy: 0.6517***\n",
    "Test loss 0.8810, accuracy 65.17%\n",
    "\n",
    "* ***after 4 epochs:  ***\n",
    "Epoch 1/4\n",
    "469/469  - 42s 87ms/step - loss: 1.6768 - accuracy: 0.4248 - val_loss: 0.9562 - val_accuracy: 0.6363  \n",
    "\n",
    "Epoch 2/4\n",
    "469/469 - 39s 83ms/step - loss: 0.7470 - accuracy: 0.7169 - val_loss: 0.7227 - val_accuracy: 0.7106  \n",
    "\n",
    "Epoch 3/4\n",
    "469/469  - 45s 97ms/step - loss: 0.6243 - accuracy: 0.7664 - val_loss: 0.6091 - val_accuracy: 0.7845  \n",
    "\n",
    "Epoch 4/4\n",
    "469/469  - 44s 94ms/step - loss: 0.5572 - accuracy: 0.7951 - val_loss: 0.5597 - val_accuracy: 0.8051  \n",
    "\n",
    "313/313  - 3s 9ms/step - loss: 0.5597 - ***accuracy: 0.8051***\n",
    "Test loss 0.5597, accuracy 80.51%"
   ]
  },
  {
   "cell_type": "markdown",
   "metadata": {},
   "source": [
    "* performance after 6 epochs not better than after 4. We should try to change layers' params"
   ]
  },
  {
   "cell_type": "markdown",
   "metadata": {},
   "source": [
    "- оценить рост точности при увеличении ширины сети (больше ядер)\n",
    "- оценить рост точности при увеличении глубины сети (больше слоев)\n",
    "- (опционально)сравнить с точностью полносвязной сети для этой выборки"
   ]
  },
  {
   "cell_type": "code",
   "execution_count": 5,
   "metadata": {},
   "outputs": [
    {
     "name": "stdout",
     "output_type": "stream",
     "text": [
      "Epoch 1/4\n",
      "469/469 [==============================] - 63s 133ms/step - loss: 1.9045 - accuracy: 0.3730 - val_loss: 0.8626 - val_accuracy: 0.6639\n",
      "Epoch 2/4\n",
      "469/469 [==============================] - 64s 136ms/step - loss: 0.7687 - accuracy: 0.7113 - val_loss: 0.7012 - val_accuracy: 0.7455\n",
      "Epoch 3/4\n",
      "469/469 [==============================] - 62s 133ms/step - loss: 0.6371 - accuracy: 0.7642 - val_loss: 0.6210 - val_accuracy: 0.7731\n",
      "Epoch 4/4\n",
      "469/469 [==============================] - 63s 134ms/step - loss: 0.5673 - accuracy: 0.7921 - val_loss: 0.6268 - val_accuracy: 0.7745\n",
      "313/313 [==============================] - 4s 11ms/step - loss: 0.6268 - accuracy: 0.7745\n",
      "Test loss 0.6268, accuracy 77.45%\n"
     ]
    }
   ],
   "source": [
    "# инициализация пустой модели\n",
    "model_wider = Sequential()\n",
    "\n",
    "# первый сверточный слой 3 -> 6\n",
    "model_wider.add(layers.Conv2D(6, 5, strides=(1, 1), activation='relu', input_shape=(28,28,1), padding=\"same\"))\n",
    "\n",
    "# второй пуллинговый слой\n",
    "model_wider.add(layers.AveragePooling2D(pool_size=(2, 2), strides=(2, 2), padding='valid'))\n",
    "\n",
    "# третий сверточный слой 6 -> 10\n",
    "model_wider.add(layers.Conv2D(10, 3, strides=(1, 1), activation='relu', padding='same'))\n",
    "\n",
    "# четвертый пуллинговый слой\n",
    "#model.add(layers.AveragePooling2D(pool_size=(2, 2), strides=(2, 2), padding='valid'))\n",
    "\n",
    "# the fifth conv layer 6 -> 10\n",
    "model_wider.add(layers.Conv2D(10, 5, strides=(1, 1), activation='relu', padding='same'))\n",
    "\n",
    "# the sixth pooling layer\n",
    "#model.add(layers.AveragePooling2D(pool_size=(2, 2), strides=(2, 2), padding='valid'))\n",
    "\n",
    "# the seventh conv layer 10 -> 16\n",
    "model_wider.add(layers.Conv2D(16, 5, strides=(1, 1), activation='relu', padding='same'))\n",
    "\n",
    "# the eighth pooling layer\n",
    "model_wider.add(layers.AveragePooling2D(pool_size=(2, 2), strides=(2, 2), padding='valid'))\n",
    "\n",
    "# the ninth conv layer\n",
    "model_wider.add(layers.Conv2D(16, 3, strides=(1, 1), activation='relu', padding='same'))\n",
    "\n",
    "# сглаживание CNN выхода чтобы можно было его присоединить к полносвязногому слою\n",
    "model_wider.add(layers.Flatten())\n",
    "\n",
    "# the tenth dense layer\n",
    "model_wider.add(layers.Dense(76, activation='relu'))\n",
    "# the el dense layer\n",
    "model_wider.add(layers.Dense(84, activation='relu'))\n",
    "# the tenth dense layer\n",
    "model_wider.add(layers.Dense(102, activation='relu'))\n",
    "\n",
    "# выходной слой с функцией активации softmax\n",
    "model_wider.add(layers.Dense(10, activation='softmax'))\n",
    "\n",
    "\n",
    "# компилияция модели\n",
    "model_wider.compile(loss=keras.losses.categorical_crossentropy, optimizer='SGD', metrics=[\"accuracy\"])\n",
    "\n",
    "\n",
    "hist_wider = model_wider.fit(x=x_train,y=y_train, epochs=4, batch_size=128, validation_data=(x_test, y_test), verbose=1)\n",
    "\n",
    "test_score_wider = model_wider.evaluate(x_test, y_test)\n",
    "print(\"Test loss {:.4f}, accuracy {:.2f}%\".format(test_score_wider[0], test_score_wider[1] * 100))\n",
    "\n",
    "\n"
   ]
  },
  {
   "cell_type": "raw",
   "metadata": {},
   "source": [
    "Epoch 1/2\n",
    "469/469 [==============================] - 57s 120ms/step - loss: 1.7953 - accuracy: 0.3842 - val_loss: 0.8502 - val_accuracy: 0.6954\n",
    "Epoch 2/2\n",
    "469/469 [==============================] - 60s 127ms/step - loss: 0.7505 - accuracy: 0.7172 - val_loss: 0.7032 - val_accuracy: 0.7461\n",
    "313/313 [==============================] - 3s 10ms/step - loss: 0.7032 - accuracy: 0.7461\n",
    "Test loss 0.7032, accuracy 74.61%"
   ]
  },
  {
   "cell_type": "code",
   "execution_count": 6,
   "metadata": {
    "colab": {
     "base_uri": "https://localhost:8080/"
    },
    "executionInfo": {
     "elapsed": 228,
     "status": "ok",
     "timestamp": 1666117583204,
     "user": {
      "displayName": "Mariia Korliakova",
      "userId": "14165537686129864864"
     },
     "user_tz": -180
    },
    "id": "6DcdKJfE4Ruf",
    "outputId": "b3683ab9-4370-4f13-b254-333a0f27060c"
   },
   "outputs": [
    {
     "name": "stdout",
     "output_type": "stream",
     "text": [
      "Model: \"sequential\"\n",
      "_________________________________________________________________\n",
      " Layer (type)                Output Shape              Param #   \n",
      "=================================================================\n",
      " conv2d (Conv2D)             (None, 28, 28, 3)         78        \n",
      "                                                                 \n",
      " average_pooling2d (AverageP  (None, 14, 14, 3)        0         \n",
      " ooling2D)                                                       \n",
      "                                                                 \n",
      " conv2d_1 (Conv2D)           (None, 14, 14, 6)         168       \n",
      "                                                                 \n",
      " conv2d_2 (Conv2D)           (None, 14, 14, 6)         906       \n",
      "                                                                 \n",
      " conv2d_3 (Conv2D)           (None, 14, 14, 10)        1510      \n",
      "                                                                 \n",
      " average_pooling2d_1 (Averag  (None, 7, 7, 10)         0         \n",
      " ePooling2D)                                                     \n",
      "                                                                 \n",
      " conv2d_4 (Conv2D)           (None, 7, 7, 16)          1456      \n",
      "                                                                 \n",
      " flatten (Flatten)           (None, 784)               0         \n",
      "                                                                 \n",
      " dense (Dense)               (None, 76)                59660     \n",
      "                                                                 \n",
      " dense_1 (Dense)             (None, 84)                6468      \n",
      "                                                                 \n",
      " dense_2 (Dense)             (None, 102)               8670      \n",
      "                                                                 \n",
      " dense_3 (Dense)             (None, 10)                1030      \n",
      "                                                                 \n",
      "=================================================================\n",
      "Total params: 79,946\n",
      "Trainable params: 79,946\n",
      "Non-trainable params: 0\n",
      "_________________________________________________________________\n"
     ]
    }
   ],
   "source": [
    "model.summary()"
   ]
  },
  {
   "cell_type": "code",
   "execution_count": 7,
   "metadata": {},
   "outputs": [
    {
     "name": "stdout",
     "output_type": "stream",
     "text": [
      "Epoch 1/4\n",
      "469/469 [==============================] - 28s 57ms/step - loss: 2.2917 - accuracy: 0.1618 - val_loss: 2.2762 - val_accuracy: 0.2193\n",
      "Epoch 2/4\n",
      "469/469 [==============================] - 26s 56ms/step - loss: 1.9747 - accuracy: 0.3264 - val_loss: 0.9111 - val_accuracy: 0.6522\n",
      "Epoch 3/4\n",
      "469/469 [==============================] - 27s 57ms/step - loss: 0.7364 - accuracy: 0.7254 - val_loss: 0.6752 - val_accuracy: 0.7548\n",
      "Epoch 4/4\n",
      "469/469 [==============================] - 27s 58ms/step - loss: 0.5981 - accuracy: 0.7786 - val_loss: 0.5810 - val_accuracy: 0.7895\n",
      "313/313 [==============================] - 2s 8ms/step - loss: 0.5810 - accuracy: 0.7895\n",
      "Test loss 0.5810, accuracy 78.95%\n"
     ]
    }
   ],
   "source": [
    "# инициализация пустой модели\n",
    "model_narrow = Sequential()\n",
    "\n",
    "# первый сверточный слой\n",
    "model_narrow.add(layers.Conv2D(3, 3, strides=(1, 1), activation='relu', input_shape=(28,28,1), padding=\"same\"))\n",
    "\n",
    "# второй пуллинговый слой\n",
    "model_narrow.add(layers.AveragePooling2D(pool_size=(2, 2), strides=(2, 2), padding='valid'))\n",
    "\n",
    "# третий сверточный слой\n",
    "model_narrow.add(layers.Conv2D(4, 3, strides=(1, 1), activation='relu', padding='same'))\n",
    "\n",
    "# четвертый пуллинговый слой\n",
    "#model.add(layers.AveragePooling2D(pool_size=(2, 2), strides=(2, 2), padding='valid'))\n",
    "\n",
    "# the fifth conv layer\n",
    "model_narrow.add(layers.Conv2D(4, 5, strides=(1, 1), activation='relu', padding='same'))\n",
    "\n",
    "# the sixth pooling layer\n",
    "#model.add(layers.AveragePooling2D(pool_size=(2, 2), strides=(2, 2), padding='valid'))\n",
    "\n",
    "# the seventh conv layer\n",
    "model_narrow.add(layers.Conv2D(6, 3, strides=(1, 1), activation='relu', padding='same'))\n",
    "\n",
    "# the eighth pooling layer\n",
    "model_narrow.add(layers.AveragePooling2D(pool_size=(2, 2), strides=(2, 2), padding='valid'))\n",
    "\n",
    "# the ninth conv layer\n",
    "model_narrow.add(layers.Conv2D(6, 3, strides=(1, 1), activation='relu', padding='same'))\n",
    "\n",
    "# сглаживание CNN выхода чтобы можно было его присоединить к полносвязногому слою\n",
    "model_narrow.add(layers.Flatten())\n",
    "\n",
    "# the tenth dense layer\n",
    "model_narrow.add(layers.Dense(76, activation='relu'))\n",
    "# the el dense layer\n",
    "model_narrow.add(layers.Dense(84, activation='relu'))\n",
    "# the tenth dense layer\n",
    "model_narrow.add(layers.Dense(102, activation='relu'))\n",
    "\n",
    "# выходной слой с функцией активации softmax\n",
    "model_narrow.add(layers.Dense(10, activation='softmax'))\n",
    "\n",
    "\n",
    "# компилияция модели\n",
    "model_narrow.compile(loss=keras.losses.categorical_crossentropy, optimizer='SGD', metrics=[\"accuracy\"])\n",
    "\n",
    "\n",
    "hist_narrow = model_narrow.fit(x=x_train,y=y_train, epochs=4, batch_size=128, validation_data=(x_test, y_test), verbose=1)\n",
    "\n",
    "test_score_narrow = model_narrow.evaluate(x_test, y_test)\n",
    "print(\"Test loss {:.4f}, accuracy {:.2f}%\".format(test_score_narrow[0], test_score_narrow[1] * 100))\n",
    "\n",
    "\n"
   ]
  },
  {
   "cell_type": "markdown",
   "metadata": {},
   "source": [
    "Almost no changes - all results around 80% accuracy.\n",
    "We'll try different amount of neurons in dense layers and then move from AlexNet NN"
   ]
  },
  {
   "cell_type": "code",
   "execution_count": 8,
   "metadata": {},
   "outputs": [
    {
     "name": "stdout",
     "output_type": "stream",
     "text": [
      "Epoch 1/6\n",
      "469/469 [==============================] - 50s 105ms/step - loss: 1.4134 - accuracy: 0.4974 - val_loss: 0.8386 - val_accuracy: 0.6813\n",
      "Epoch 2/6\n",
      "469/469 [==============================] - 48s 103ms/step - loss: 0.7106 - accuracy: 0.7283 - val_loss: 0.6432 - val_accuracy: 0.7647\n",
      "Epoch 3/6\n",
      "469/469 [==============================] - 49s 104ms/step - loss: 0.6000 - accuracy: 0.7783 - val_loss: 0.5772 - val_accuracy: 0.7865\n",
      "Epoch 4/6\n",
      "469/469 [==============================] - 55s 118ms/step - loss: 0.5399 - accuracy: 0.8014 - val_loss: 0.5362 - val_accuracy: 0.8044\n",
      "Epoch 5/6\n",
      "469/469 [==============================] - 57s 121ms/step - loss: 0.4945 - accuracy: 0.8183 - val_loss: 0.5322 - val_accuracy: 0.8072\n",
      "Epoch 6/6\n",
      "469/469 [==============================] - 57s 121ms/step - loss: 0.4628 - accuracy: 0.8305 - val_loss: 0.4726 - val_accuracy: 0.8288\n",
      "313/313 [==============================] - 4s 13ms/step - loss: 0.4726 - accuracy: 0.8288\n",
      "Test loss 0.4726, accuracy 82.88%\n"
     ]
    }
   ],
   "source": [
    "# инициализация пустой модели\n",
    "model_dense_1 = Sequential()\n",
    "\n",
    "# первый сверточный слой\n",
    "model_dense_1.add(layers.Conv2D(3, 5, strides=(1, 1), activation='relu', input_shape=(28,28,1), padding=\"same\"))\n",
    "\n",
    "# второй пуллинговый слой\n",
    "model_dense_1.add(layers.AveragePooling2D(pool_size=(2, 2), strides=(2, 2), padding='valid'))\n",
    "\n",
    "# третий сверточный слой\n",
    "model_dense_1.add(layers.Conv2D(6, 3, strides=(1, 1), activation='relu', padding='same'))\n",
    "\n",
    "# четвертый пуллинговый слой\n",
    "#model.add(layers.AveragePooling2D(pool_size=(2, 2), strides=(2, 2), padding='valid'))\n",
    "\n",
    "# the fifth conv layer\n",
    "model_dense_1.add(layers.Conv2D(6, 5, strides=(1, 1), activation='relu', padding='same'))\n",
    "\n",
    "# the sixth pooling layer\n",
    "#model.add(layers.AveragePooling2D(pool_size=(2, 2), strides=(2, 2), padding='valid'))\n",
    "\n",
    "# the seventh conv layer\n",
    "model_dense_1.add(layers.Conv2D(10, 5, strides=(1, 1), activation='relu', padding='same'))\n",
    "\n",
    "# the eighth pooling layer\n",
    "model_dense_1.add(layers.AveragePooling2D(pool_size=(2, 2), strides=(2, 2), padding='valid'))\n",
    "\n",
    "# the ninth conv layer\n",
    "model_dense_1.add(layers.Conv2D(16, 3, strides=(1, 1), activation='relu', padding='same'))\n",
    "\n",
    "# сглаживание CNN выхода чтобы можно было его присоединить к полносвязногому слою\n",
    "model_dense_1.add(layers.Flatten())\n",
    "\n",
    "# the tenth dense layer\n",
    "model_dense_1.add(layers.Dense(360, activation='relu'))\n",
    "# the el dense layer\n",
    "model_dense_1.add(layers.Dense(160, activation='relu'))\n",
    "# the tenth dense layer\n",
    "model_dense_1.add(layers.Dense(90, activation='relu'))\n",
    "\n",
    "# выходной слой с функцией активации softmax\n",
    "model_dense_1.add(layers.Dense(10, activation='softmax'))\n",
    "\n",
    "\n",
    "# компилияция модели\n",
    "model_dense_1.compile(loss=keras.losses.categorical_crossentropy, optimizer='SGD', metrics=[\"accuracy\"])\n",
    "\n",
    "\n",
    "hist_dense_1 = model_dense_1.fit(x=x_train,y=y_train, epochs=6, batch_size=128, validation_data=(x_test, y_test), verbose=1)\n",
    "\n",
    "test_score_dense_1 = model_dense_1.evaluate(x_test, y_test)\n",
    "print(\"Test loss {:.4f}, accuracy {:.2f}%\".format(test_score_dense_1[0], test_score_dense_1[1] * 100))\n",
    "\n",
    "\n"
   ]
  },
  {
   "cell_type": "code",
   "execution_count": 9,
   "metadata": {},
   "outputs": [
    {
     "name": "stdout",
     "output_type": "stream",
     "text": [
      "Epoch 1/6\n",
      "469/469 [==============================] - 125s 264ms/step - loss: 1.0593 - accuracy: 0.6222 - val_loss: 0.6901 - val_accuracy: 0.7471\n",
      "Epoch 2/6\n",
      "469/469 [==============================] - 132s 280ms/step - loss: 0.6134 - accuracy: 0.7700 - val_loss: 0.5825 - val_accuracy: 0.7811\n",
      "Epoch 3/6\n",
      "469/469 [==============================] - 163s 348ms/step - loss: 0.5276 - accuracy: 0.8034 - val_loss: 0.5236 - val_accuracy: 0.8109\n",
      "Epoch 4/6\n",
      "469/469 [==============================] - 299s 638ms/step - loss: 0.4754 - accuracy: 0.8269 - val_loss: 0.4968 - val_accuracy: 0.8236\n",
      "Epoch 5/6\n",
      "469/469 [==============================] - 93s 198ms/step - loss: 0.4442 - accuracy: 0.8379 - val_loss: 0.4938 - val_accuracy: 0.8153\n",
      "Epoch 6/6\n",
      "469/469 [==============================] - 97s 208ms/step - loss: 0.4182 - accuracy: 0.8483 - val_loss: 0.4314 - val_accuracy: 0.8466\n",
      "313/313 [==============================] - 8s 24ms/step - loss: 0.4314 - accuracy: 0.8466\n",
      "Test loss 0.4314, accuracy 84.66%\n"
     ]
    }
   ],
   "source": [
    "# инициализация пустой модели\n",
    "model_dense_2 = Sequential()\n",
    "\n",
    "# первый сверточный слой\n",
    "model_dense_2.add(layers.Conv2D(3, 5, strides=(1, 1), activation='relu', input_shape=(28,28,1), padding=\"same\"))\n",
    "\n",
    "# второй пуллинговый слой\n",
    "model_dense_2.add(layers.AveragePooling2D(pool_size=(2, 2), strides=(1, 1), padding='valid'))\n",
    "\n",
    "# третий сверточный слой\n",
    "model_dense_2.add(layers.Conv2D(6, 3, strides=(1, 1), activation='relu', padding='same'))\n",
    "\n",
    "# четвертый пуллинговый слой\n",
    "#model.add(layers.AveragePooling2D(pool_size=(2, 2), strides=(2, 2), padding='valid'))\n",
    "\n",
    "# the fifth conv layer\n",
    "model_dense_2.add(layers.Conv2D(6, 5, strides=(1, 1), activation='relu', padding='same'))\n",
    "\n",
    "# the sixth pooling layer\n",
    "#model.add(layers.AveragePooling2D(pool_size=(2, 2), strides=(2, 2), padding='valid'))\n",
    "\n",
    "# the seventh conv layer\n",
    "model_dense_2.add(layers.Conv2D(3, 5, strides=(1, 1), activation='relu', padding='same'))\n",
    "\n",
    "# the eighth pooling layer\n",
    "model_dense_2.add(layers.AveragePooling2D(pool_size=(2, 2), strides=(2, 2), padding='valid'))\n",
    "\n",
    "# the ninth conv layer\n",
    "#model_dense_2.add(layers.Conv2D(3, 3, strides=(1, 1), activation='relu', padding='same'))\n",
    "\n",
    "# сглаживание CNN выхода чтобы можно было его присоединить к полносвязногому слою\n",
    "model_dense_2.add(layers.Flatten())\n",
    "\n",
    "# the tenth dense layer\n",
    "#model_dense_2.add(layers.Dense(560, activation='relu'))\n",
    "# the el dense layer\n",
    "model_dense_2.add(layers.Dense(200, activation='relu'))\n",
    "# the tenth dense layer\n",
    "model_dense_2.add(layers.Dense(90, activation='relu'))\n",
    "\n",
    "# выходной слой с функцией активации softmax\n",
    "model_dense_2.add(layers.Dense(10, activation='softmax'))\n",
    "\n",
    "\n",
    "# компилияция модели\n",
    "model_dense_2.compile(loss=keras.losses.categorical_crossentropy, optimizer='SGD', metrics=[\"accuracy\"])\n",
    "\n",
    "\n",
    "hist_dense_2 = model_dense_2.fit(x=x_train,y=y_train, epochs=6, batch_size=128, validation_data=(x_test, y_test), verbose=1)\n",
    "\n",
    "test_score_dense_2 = model_dense_2.evaluate(x_test, y_test)\n",
    "print(\"Test loss {:.4f}, accuracy {:.2f}%\".format(test_score_dense_2[0], test_score_dense_2[1] * 100))\n",
    "\n",
    "\n"
   ]
  },
  {
   "cell_type": "code",
   "execution_count": null,
   "metadata": {},
   "outputs": [],
   "source": [
    "model_dense_2.summary()"
   ]
  },
  {
   "cell_type": "code",
   "execution_count": 10,
   "metadata": {
    "colab": {
     "base_uri": "https://localhost:8080/",
     "height": 976
    },
    "executionInfo": {
     "elapsed": 10,
     "status": "ok",
     "timestamp": 1666110946887,
     "user": {
      "displayName": "Mariia Korliakova",
      "userId": "14165537686129864864"
     },
     "user_tz": -180
    },
    "id": "etqOD4H-R0Ws",
    "outputId": "dbe193f0-6622-4580-87f1-eb5c7a37c427"
   },
   "outputs": [
    {
     "data": {
      "image/png": "[encoded data removed]",
      "text/plain": [
       "<IPython.core.display.Image object>"
      ]
     },
     "execution_count": 10,
     "metadata": {},
     "output_type": "execute_result"
    }
   ],
   "source": [
    "plot_model(model_dense_2,'model_sconv.png', show_shapes=True)"
   ]
  },
  {
   "cell_type": "code",
   "execution_count": 11,
   "metadata": {
    "colab": {
     "base_uri": "https://localhost:8080/"
    },
    "executionInfo": {
     "elapsed": 877,
     "status": "ok",
     "timestamp": 1666117657265,
     "user": {
      "displayName": "Mariia Korliakova",
      "userId": "14165537686129864864"
     },
     "user_tz": -180
    },
    "id": "7dRmLOfh1R9v",
    "outputId": "95386dc8-26fc-4fcd-b32d-8c75e10265c2"
   },
   "outputs": [
    {
     "name": "stdout",
     "output_type": "stream",
     "text": [
      "313/313 [==============================] - 7s 23ms/step\n"
     ]
    }
   ],
   "source": [
    "y_pred=model_dense_2.predict(x_test)"
   ]
  },
  {
   "cell_type": "code",
   "execution_count": 12,
   "metadata": {
    "colab": {
     "base_uri": "https://localhost:8080/",
     "height": 550
    },
    "executionInfo": {
     "elapsed": 546,
     "status": "ok",
     "timestamp": 1666117688781,
     "user": {
      "displayName": "Mariia Korliakova",
      "userId": "14165537686129864864"
     },
     "user_tz": -180
    },
    "id": "W6Zu8NOA0N2f",
    "outputId": "347e5c6d-5f97-4238-e6dc-9fce2a31be62"
   },
   "outputs": [
    {
     "data": {
      "image/png": "[encoded data removed]",
      "text/plain": [
       "<Figure size 432x288 with 1 Axes>"
      ]
     },
     "metadata": {
      "needs_background": "light"
     },
     "output_type": "display_data"
    },
    {
     "name": "stdout",
     "output_type": "stream",
     "text": [
      "[0. 0. 0. 0. 0. 0. 0. 0. 0. 1.]\n"
     ]
    },
    {
     "data": {
      "image/png": "[encoded data removed]",
      "text/plain": [
       "<Figure size 432x288 with 1 Axes>"
      ]
     },
     "metadata": {
      "needs_background": "light"
     },
     "output_type": "display_data"
    }
   ],
   "source": [
    "plt.plot(y_pred[0][:])\n",
    "plt.grid()\n",
    "plt.show()\n",
    "#print(y_pred[0][:])\n",
    "plt.imshow(x_test[0][:,:,0])\n",
    "print(y_test[0][:])\n",
    "plt.show()"
   ]
  },
  {
   "cell_type": "markdown",
   "metadata": {
    "id": "ExAWI8K-m5-S"
   },
   "source": [
    "## Пример на Keras более сложной сверточной нейронной сети"
   ]
  },
  {
   "cell_type": "markdown",
   "metadata": {
    "id": "bUPiXBS9m5-U"
   },
   "source": [
    "Давайте теперь попробуем сделать несколько усложненный вариант нейронной сети разобранной ранее. В ней будет на несколько слоев больше и в ней будет использоваться data augumentation, процедура позволяющая за счет искажений изображений увеличить количество тренировочных данных, а как мы знаем чем больше тренировочных данных тем лучше будет работать нейросеть. Для обучения нейросети будем использовать датасет cifar-10. В нем 10 категорий объектов, например - лошадь, лягушка, корабль. Данный датасет уже более сложен для нейронных сетей чем mnist, однако он намного проще датасетов наподобие imagenet где используются сотни классов и архитектуры нейронных сетей для подобных датасетов также понадобяться более сложные."
   ]
  },
  {
   "cell_type": "code",
   "execution_count": null,
   "metadata": {
    "executionInfo": {
     "elapsed": 3,
     "status": "ok",
     "timestamp": 1666118634493,
     "user": {
      "displayName": "Mariia Korliakova",
      "userId": "14165537686129864864"
     },
     "user_tz": -180
    },
    "id": "0CMCfvAPdJct"
   },
   "outputs": [],
   "source": [
    "from __future__ import print_function\n",
    "#import tensorflow.keras as keras # расскоментируйте эту строку, чтобы начать обучение\n",
    "from tensorflow.keras.datasets import cifar10\n",
    "from tensorflow.keras.preprocessing.image import ImageDataGenerator\n",
    "from tensorflow.keras.models import Sequential\n",
    "from tensorflow.keras.layers import Dense, Dropout, Activation, Flatten\n",
    "from tensorflow.keras.layers import Conv2D, MaxPooling2D\n",
    "import os"
   ]
  },
  {
   "cell_type": "code",
   "execution_count": null,
   "metadata": {
    "executionInfo": {
     "elapsed": 316,
     "status": "ok",
     "timestamp": 1666118766043,
     "user": {
      "displayName": "Mariia Korliakova",
      "userId": "14165537686129864864"
     },
     "user_tz": -180
    },
    "id": "kiRCJY0WdGph"
   },
   "outputs": [],
   "source": [
    "classes=['самолет', 'автомобиль', 'птица', 'кот', 'олень', 'собака', 'лягушка', 'лошадь', 'корабль', 'грузовик']"
   ]
  },
  {
   "cell_type": "code",
   "execution_count": null,
   "metadata": {
    "colab": {
     "base_uri": "https://localhost:8080/"
    },
    "executionInfo": {
     "elapsed": 5822,
     "status": "ok",
     "timestamp": 1666118784810,
     "user": {
      "displayName": "Mariia Korliakova",
      "userId": "14165537686129864864"
     },
     "user_tz": -180
    },
    "id": "yvG4BrpCwuFz",
    "outputId": "7eff454c-9d88-4aba-e7cd-7a544c2debbd"
   },
   "outputs": [],
   "source": [
    "\n",
    "\n",
    "# установка параметров нейросети\n",
    "batch_size = 32\n",
    "num_classes = 10\n",
    "epochs = 1\n",
    "data_augmentation = False\n",
    "num_predictions = 20\n",
    "save_dir = os.path.join(os.getcwd(), 'saved_models')\n",
    "model_name = 'keras_cifar10_trained_model.h5'\n",
    "\n",
    "# разделение тренировочной и тестовой выборки\n",
    "(x_train, y_train), (x_test, y_test) = cifar10.load_data()\n",
    "print('x_train shape:', x_train.shape)\n",
    "print(x_train.shape[0], 'тренировочные примеры')\n",
    "print(x_test.shape[0], 'тестовые примеры')\n",
    "\n",
    "# преобразование матрицы чисел 0-9 в бинарную матрицу чисел 0-1\n",
    "y_train = keras.utils.to_categorical(y_train, num_classes)\n",
    "y_test = keras.utils.to_categorical(y_test, num_classes)\n",
    "\n",
    "\n",
    "x_train = x_train.astype('float32')\n",
    "x_test = x_test.astype('float32')\n",
    "x_train /= 255\n",
    "x_test /= 255"
   ]
  },
  {
   "cell_type": "code",
   "execution_count": null,
   "metadata": {
    "executionInfo": {
     "elapsed": 262,
     "status": "ok",
     "timestamp": 1666118816940,
     "user": {
      "displayName": "Mariia Korliakova",
      "userId": "14165537686129864864"
     },
     "user_tz": -180
    },
    "id": "5tT_XojWTENH"
   },
   "outputs": [],
   "source": [
    "data_augmentation = False"
   ]
  },
  {
   "cell_type": "code",
   "execution_count": null,
   "metadata": {
    "colab": {
     "base_uri": "https://localhost:8080/",
     "height": 281
    },
    "executionInfo": {
     "elapsed": 675,
     "status": "ok",
     "timestamp": 1666118834296,
     "user": {
      "displayName": "Mariia Korliakova",
      "userId": "14165537686129864864"
     },
     "user_tz": -180
    },
    "id": "rDe1bd1pw5fM",
    "outputId": "ddadab3f-10a1-4602-b04f-6795eb8b42e3"
   },
   "outputs": [],
   "source": [
    "N = 101\n",
    "\n",
    "plt.imshow(x_test[N][:,:,:])\n",
    "plt.title('это : '+classes[np.argmax(y_test[N,:])])\n",
    "plt.show()"
   ]
  },
  {
   "cell_type": "code",
   "execution_count": null,
   "metadata": {
    "colab": {
     "base_uri": "https://localhost:8080/"
    },
    "executionInfo": {
     "elapsed": 12144,
     "status": "ok",
     "timestamp": 1666118981871,
     "user": {
      "displayName": "Mariia Korliakova",
      "userId": "14165537686129864864"
     },
     "user_tz": -180
    },
    "id": "H4Ob9X-gm5-W",
    "outputId": "7fabca47-27fd-427d-835f-cac95ec161ac"
   },
   "outputs": [],
   "source": [
    "\n",
    "\n",
    "# конфигурирование слоев нейросети\n",
    "model = Sequential()\n",
    "\n",
    "# слои нейросети отвественные за свертку и max-pooling\n",
    "model.add(Conv2D(32, (3, 3), padding='same',\n",
    "                 input_shape=x_train.shape[1:]))\n",
    "model.add(Activation('relu'))\n",
    "model.add(Conv2D(32, (3, 3)))\n",
    "model.add(Activation('relu'))\n",
    "model.add(MaxPooling2D(pool_size=(2, 2)))\n",
    "model.add(Dropout( 0.25))\n",
    "\n",
    "model.add(Conv2D(64, (3, 3), padding='same'))\n",
    "model.add(Activation('relu'))\n",
    "model.add(Conv2D(64, (3, 3)))\n",
    "model.add(Activation('relu'))\n",
    "model.add(MaxPooling2D(pool_size=(2, 2)))\n",
    "model.add(Dropout(0.25))\n",
    "\n",
    "# полносвязные слои нейронной сети\n",
    "model.add(Flatten())\n",
    "model.add(Dense(512))\n",
    "model.add(Activation('relu'))\n",
    "model.add(Dropout(0.5))\n",
    "model.add(Dense(num_classes))\n",
    "model.add(Activation('softmax'))\n",
    "\n",
    "# инициализация RMSprop optimizer\n",
    "#opt = tensorflow.keras.optimizers.RMSprop(lr=0.0001, decay=1e-6)\n",
    "\n",
    "# компиляция модели\n",
    "model.compile(loss='categorical_crossentropy',\n",
    "              optimizer='SGD',\n",
    "              metrics=['accuracy'])\n",
    "\n",
    "\n",
    "\n",
    "if not data_augmentation:\n",
    "    print('Не используется data augmentation')\n",
    "    model.fit(x_train, y_train,\n",
    "              batch_size=batch_size,\n",
    "              epochs=epochs,\n",
    "              validation_data=(x_test, y_test),\n",
    "              shuffle=True)\n",
    "else:\n",
    "    print('Использование data augmentation в реальном времени')\n",
    "    # Препроцессинг и data augmentation в реальном времени:\n",
    "    datagen = ImageDataGenerator(\n",
    "        featurewise_center=False,\n",
    "        samplewise_center=False,\n",
    "        featurewise_std_normalization=False,\n",
    "        samplewise_std_normalization=False,\n",
    "        zca_whitening=False, \n",
    "        zca_epsilon=1e-06, \n",
    "        rotation_range=5, \n",
    "        width_shift_range=0.1,\n",
    "        height_shift_range=0.1,\n",
    "        shear_range=0., \n",
    "        zoom_range=0., \n",
    "        channel_shift_range=0.,\n",
    "        fill_mode='nearest',\n",
    "        cval=0.,\n",
    "        horizontal_flip=True,\n",
    "        vertical_flip=False,\n",
    "        rescale=None,\n",
    "        preprocessing_function=None,\n",
    "        data_format=None,\n",
    "        validation_split=0.0)\n",
    "\n",
    "    # запуск data augmentation через fit\n",
    "    #datagen.fit(x_train)\n",
    "\n",
    "    # запуск data augmentation через fit_generator\n",
    "    model.fit_generator(datagen.flow(x_train, y_train,\n",
    "                                     batch_size=batch_size),\n",
    "                        epochs=epochs,\n",
    "                        validation_data=(x_test, y_test),\n",
    "                        workers=-1)\n",
    "\n",
    "# сохранение модели и весов\n",
    "if not os.path.isdir(save_dir):\n",
    "    os.makedirs(save_dir)\n",
    "model_path = os.path.join(save_dir, model_name)\n",
    "model.save(model_path)\n",
    "print('сохранить обученную модель как %s ' % model_path)\n",
    "\n",
    "# проверка работы обученной модели\n",
    "scores = model.evaluate(x_test, y_test, verbose=1)\n",
    "print('Test loss:', scores[0])\n",
    "print('Test accuracy:', scores[1])"
   ]
  },
  {
   "cell_type": "code",
   "execution_count": null,
   "metadata": {
    "colab": {
     "base_uri": "https://localhost:8080/"
    },
    "executionInfo": {
     "elapsed": 265,
     "status": "ok",
     "timestamp": 1666119040170,
     "user": {
      "displayName": "Mariia Korliakova",
      "userId": "14165537686129864864"
     },
     "user_tz": -180
    },
    "id": "9ghWtEBKfflg",
    "outputId": "1f098ba6-7ebf-475a-c0d7-47af4f4bbafc"
   },
   "outputs": [],
   "source": [
    "model.summary()"
   ]
  },
  {
   "cell_type": "markdown",
   "metadata": {
    "id": "WEWU08zQ04SN"
   },
   "source": [
    "Что вернет ImageDataGenerator"
   ]
  },
  {
   "cell_type": "code",
   "execution_count": null,
   "metadata": {
    "executionInfo": {
     "elapsed": 365,
     "status": "ok",
     "timestamp": 1666119065770,
     "user": {
      "displayName": "Mariia Korliakova",
      "userId": "14165537686129864864"
     },
     "user_tz": -180
    },
    "id": "H5W8O9FRTcgZ"
   },
   "outputs": [],
   "source": [
    "datagen = ImageDataGenerator(\n",
    "        featurewise_center=False,\n",
    "        samplewise_center=False,\n",
    "        featurewise_std_normalization=False,\n",
    "        samplewise_std_normalization=False,\n",
    "        zca_whitening=False, \n",
    "        zca_epsilon=1e-06, \n",
    "        rotation_range=15, \n",
    "        width_shift_range=0.1,\n",
    "        height_shift_range=0.1,\n",
    "        shear_range=0., \n",
    "        zoom_range=0., \n",
    "        channel_shift_range=0.,\n",
    "        fill_mode='nearest',\n",
    "        cval=0.,\n",
    "        horizontal_flip=True,\n",
    "        vertical_flip= False,\n",
    "        rescale=None,\n",
    "        preprocessing_function=None,\n",
    "        data_format=None,\n",
    "        validation_split=0.0)"
   ]
  },
  {
   "cell_type": "code",
   "execution_count": null,
   "metadata": {
    "colab": {
     "base_uri": "https://localhost:8080/",
     "height": 202
    },
    "executionInfo": {
     "elapsed": 745,
     "status": "ok",
     "timestamp": 1666119112123,
     "user": {
      "displayName": "Mariia Korliakova",
      "userId": "14165537686129864864"
     },
     "user_tz": -180
    },
    "id": "GYki_abawYzK",
    "outputId": "59586c95-30ac-4a05-f6aa-546da0af7417"
   },
   "outputs": [],
   "source": [
    "N=20\n",
    "datagen.fit(x_test)\n",
    "for imag,y  in datagen.flow(x_test[N:N+1,:,:,:],y_test[N:N+1], batch_size=1):\n",
    "  plt.subplot(1,2,1)\n",
    "  plt.imshow(x_test[N][:,:,:])\n",
    "  plt.subplot(1,2,2)\n",
    "  plt.imshow(imag[0,:,:,:])\n",
    "\n",
    "  plt.show()\n",
    "  if True:\n",
    "    break\n"
   ]
  },
  {
   "cell_type": "code",
   "execution_count": null,
   "metadata": {
    "colab": {
     "base_uri": "https://localhost:8080/"
    },
    "executionInfo": {
     "elapsed": 41562,
     "status": "ok",
     "timestamp": 1666119165853,
     "user": {
      "displayName": "Mariia Korliakova",
      "userId": "14165537686129864864"
     },
     "user_tz": -180
    },
    "id": "K_VqY4kFwE0R",
    "outputId": "e14d7353-5568-4ab4-963a-911f4d262b3f"
   },
   "outputs": [],
   "source": [
    " model.fit_generator(datagen.flow(x_train, y_train,\n",
    "                                     batch_size=batch_size),\n",
    "                        epochs=epochs,\n",
    "                        validation_data=(x_test, y_test))"
   ]
  },
  {
   "cell_type": "code",
   "execution_count": null,
   "metadata": {
    "colab": {
     "base_uri": "https://localhost:8080/"
    },
    "executionInfo": {
     "elapsed": 43363,
     "status": "ok",
     "timestamp": 1666119209205,
     "user": {
      "displayName": "Mariia Korliakova",
      "userId": "14165537686129864864"
     },
     "user_tz": -180
    },
    "id": "u_40aB4Pm5zA",
    "outputId": "c1b2d79f-841b-48c7-b617-75c590627b4d"
   },
   "outputs": [],
   "source": [
    " model.fit(x_train, y_train,       batch_size=batch_size,epochs=5, validation_data=(x_test, y_test))"
   ]
  },
  {
   "cell_type": "code",
   "execution_count": null,
   "metadata": {
    "colab": {
     "base_uri": "https://localhost:8080/",
     "height": 299
    },
    "executionInfo": {
     "elapsed": 19,
     "status": "ok",
     "timestamp": 1666111149928,
     "user": {
      "displayName": "Mariia Korliakova",
      "userId": "14165537686129864864"
     },
     "user_tz": -180
    },
    "id": "D3_01HTZmewa",
    "outputId": "cbb2b1a8-573f-45b1-ff26-210866c3775f"
   },
   "outputs": [],
   "source": [
    "N = 107\n",
    "y_p=model.predict(x_test[N:N+1][:,:,:])\n",
    "y_t = np.argmax(y_test[N:N+1], axis = 1 )\n",
    "y_i = np.argmax(y_p, axis = 1 )\n",
    "plt.imshow(x_test[N][:,:,:])\n",
    "plt.title('это : '+classes[y_t[0]]+'- опознан как : '+classes[y_i[0]])\n",
    "plt.show()"
   ]
  },
  {
   "cell_type": "markdown",
   "metadata": {
    "id": "5m6C7vmSm5-e"
   },
   "source": [
    "## Дополнительные материалы\n",
    "\n",
    "<ol>\n",
    "    <li>https://keras.io/layers/convolutional/</li>\n",
    "    <li>https://keras.io/layers/pooling/</li>\n",
    "    <li>https://keras.io/preprocessing/image/</li>\n",
    "</ol>"
   ]
  },
  {
   "cell_type": "markdown",
   "metadata": {
    "id": "CxV-McNP-kIv"
   },
   "source": [
    "Вопрос:\n",
    "\n",
    "1. есть сверточный слой с ядром (2,2), ядер в слое 16, padding = 'valid', на вход приходит тензор (10,100,100, 4) , что будет на выходе (размер выходного тензора)\n",
    "\n",
    "2. есть слой MaxPooling2D с ядром (2,2),  padding = 'valid', на вход приходит тензор (10,100,100, 4) , что будет на выходе (размер выходного тензора)\n",
    "\n",
    "3. есть сверточный слой с ядром (3,3), ядер в слое 16, padding = 'same', на вход приходит тензор (10,100,100, 4) , что будет на выходе (размер выходного тензора)\n",
    "\n",
    "4. есть сверточный слой с ядром (3,3), ядер в слое 16, padding = 'valid', на вход приходит тензор (10,100,100, 4) , сколько параметров настраиваем\n",
    "\n",
    "5. есть слой MaxPooling2D с ядром (2,2),padding = 'valid', на вход приходит тензор (10,100,100, 4) , сколько параметров настраиваем"
   ]
  },
  {
   "cell_type": "markdown",
   "metadata": {
    "id": "ccp0jnYxm5-g"
   },
   "source": [
    "## Используемая литература \n",
    "\n",
    "Для подготовки данного методического пособия были использованы следующие ресурсы:\n",
    "<ol>\n",
    "    <li>https://keras.io</li>\n",
    "    <li>Шакла Н. — Машинное обучение и TensorFlow 2019</li>\n",
    "    <li>Николенко Сергей Игоревич, Кадурин А. А. - Глубокое обучение. Погружение в мир нейронных сетей  2018</li>\n",
    "    <li>Francois Chollet - Deep Learning with Python 2018</li>\n",
    "    <li>Alex Krizhevsky, Ilya Sutskever, Geoffrey E. Hinton - ImageNet Classification with Deep Convolutional Neural Networks</li>\n",
    "    <li>Karen Simonyan, Andrew Zisserman - Very Deep Convolutional Networks for Large-Scale Image Recognition</li>\n",
    "    <li>Википедия</li>    \n",
    "</ol>"
   ]
  },
  {
   "cell_type": "code",
   "execution_count": null,
   "metadata": {
    "id": "9nB_dTU9m5-i"
   },
   "outputs": [],
   "source": [
    "from tensorflow.keras.datasets import imdb"
   ]
  },
  {
   "cell_type": "code",
   "execution_count": null,
   "metadata": {
    "colab": {
     "base_uri": "https://localhost:8080/"
    },
    "executionInfo": {
     "elapsed": 4381,
     "status": "ok",
     "timestamp": 1666111154305,
     "user": {
      "displayName": "Mariia Korliakova",
      "userId": "14165537686129864864"
     },
     "user_tz": -180
    },
    "id": "OAMMmHyLm5-n",
    "outputId": "4efa0c11-7f06-4657-9ed4-23b83f8c3976"
   },
   "outputs": [],
   "source": [
    "(x,y),(d,h) =imdb.load_data(path='imdb.npz')"
   ]
  },
  {
   "cell_type": "code",
   "execution_count": null,
   "metadata": {
    "colab": {
     "base_uri": "https://localhost:8080/"
    },
    "executionInfo": {
     "elapsed": 8,
     "status": "ok",
     "timestamp": 1666111154306,
     "user": {
      "displayName": "Mariia Korliakova",
      "userId": "14165537686129864864"
     },
     "user_tz": -180
    },
    "id": "QegQwyO4Wv4C",
    "outputId": "a3f75eb5-81f6-4f05-d3b8-e7ecce3d0a0d"
   },
   "outputs": [],
   "source": [
    "h[:10]"
   ]
  },
  {
   "cell_type": "code",
   "execution_count": null,
   "metadata": {
    "colab": {
     "base_uri": "https://localhost:8080/"
    },
    "executionInfo": {
     "elapsed": 7,
     "status": "ok",
     "timestamp": 1666111154306,
     "user": {
      "displayName": "Mariia Korliakova",
      "userId": "14165537686129864864"
     },
     "user_tz": -180
    },
    "id": "vLVUQo6LYOQB",
    "outputId": "b2280edf-1bae-44dd-f423-d250aa4aa5da"
   },
   "outputs": [],
   "source": [
    "y[:10]"
   ]
  },
  {
   "cell_type": "code",
   "execution_count": null,
   "metadata": {
    "id": "_ZZgUEoBr3x7"
   },
   "outputs": [],
   "source": []
  }
 ],
 "metadata": {
  "accelerator": "GPU",
  "colab": {
   "collapsed_sections": [],
   "provenance": []
  },
  "kernelspec": {
   "display_name": "Python 3 (ipykernel)",
   "language": "python",
   "name": "python3"
  },
  "language_info": {
   "codemirror_mode": {
    "name": "ipython",
    "version": 3
   },
   "file_extension": ".py",
   "mimetype": "text/x-python",
   "name": "python",
   "nbconvert_exporter": "python",
   "pygments_lexer": "ipython3",
   "version": "3.9.13"
  }
 },
 "nbformat": 4,
 "nbformat_minor": 1
}
